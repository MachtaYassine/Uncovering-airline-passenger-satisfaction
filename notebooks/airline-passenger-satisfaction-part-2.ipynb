{
 "cells": [
  {
   "cell_type": "markdown",
   "id": "4ea6063a",
   "metadata": {
    "papermill": {
     "duration": 0.021631,
     "end_time": "2022-08-20T20:05:37.057069",
     "exception": false,
     "start_time": "2022-08-20T20:05:37.035438",
     "status": "completed"
    },
    "tags": []
   },
   "source": [
    "<div style=\"border-width:1; border-radius: 15px; border-style: solid; border-color: rgb(10, 10, 10); background-color: #2b6777; color:#ffffff;text-align: center;font: 14pt 'Candara';font-weight:bold;\"><h1>Airline passenger satisfaction (Part 2)</h1></div>"
   ]
  },
  {
   "cell_type": "markdown",
   "id": "338d21ab",
   "metadata": {
    "papermill": {
     "duration": 0.019625,
     "end_time": "2022-08-20T20:05:37.096828",
     "exception": false,
     "start_time": "2022-08-20T20:05:37.077203",
     "status": "completed"
    },
    "tags": []
   },
   "source": [
    "<center><a><img src=\"https://apartmentinteriors.ru/wp-content/uploads/samolot-charter-private-jet-charter-02.jpg\" border=\"3\" width=800 height=600 class=\"center\"></a>"
   ]
  },
  {
   "cell_type": "markdown",
   "id": "4bf5778d",
   "metadata": {
    "papermill": {
     "duration": 0.01927,
     "end_time": "2022-08-20T20:05:37.135609",
     "exception": false,
     "start_time": "2022-08-20T20:05:37.116339",
     "status": "completed"
    },
    "tags": []
   },
   "source": [
    "<div style=\"border-width:1; border-radius: 15px; border-style: solid; border-color: rgb(10, 10, 10); background-color: #52ab98; text-align: center;font: 14pt 'Candara';font-weight:bold;\"><h1>Introduction</h1></div>"
   ]
  },
  {
   "cell_type": "markdown",
   "id": "304dca3e",
   "metadata": {
    "papermill": {
     "duration": 0.019199,
     "end_time": "2022-08-20T20:05:37.174240",
     "exception": false,
     "start_time": "2022-08-20T20:05:37.155041",
     "status": "completed"
    },
    "tags": []
   },
   "source": [
    "<b>In the first part:</b>\n",
    "<ul>\n",
    "    <li>This dataset was described and analyzed in detail.</li>\n",
    "    <li>Some data preprocessing was done.</li>\n",
    "    <li>Several machine learning algorithms (kNN, SVC, Random Forest, Extremely Randomized Trees, AdaBoost and GBT) were launched.\n",
    "    <li>The results of their work were presented.</li>\n",
    "</ul>\n",
    "\n",
    "<b>In this part:</b>\n",
    "<ul>\n",
    "    <li>The neural network will be trained.</li>\n",
    "    <li>The hyperparameters will be selected in several ways.</li>\n",
    "    <li>Conclusions based on the results of the work are given.</li>\n",
    "</ul>"
   ]
  },
  {
   "cell_type": "markdown",
   "id": "d323b56b",
   "metadata": {
    "papermill": {
     "duration": 0.018847,
     "end_time": "2022-08-20T20:05:37.212074",
     "exception": false,
     "start_time": "2022-08-20T20:05:37.193227",
     "status": "completed"
    },
    "tags": []
   },
   "source": [
    "***\n",
    "<b>If you haven't seen the first part, I recommend that you first read it.</b>\n",
    "\n",
    "Link to the first part: [**Airline Passenger Satisfaction (Part 1)**](https://www.kaggle.com/code/frixinglife/airline-passenger-satisfaction-part-1)\n",
    "***\n"
   ]
  },
  {
   "cell_type": "markdown",
   "id": "8399fe4b",
   "metadata": {
    "papermill": {
     "duration": 0.018846,
     "end_time": "2022-08-20T20:05:37.251448",
     "exception": false,
     "start_time": "2022-08-20T20:05:37.232602",
     "status": "completed"
    },
    "tags": []
   },
   "source": [
    "<div style=\"border-width:1; border-radius: 15px; border-style: solid; border-color: rgb(10, 10, 10); background-color: #52ab98; text-align: center;font: 14pt 'Candara';font-weight:bold;\"><h1>Task description</h1></div>"
   ]
  },
  {
   "cell_type": "markdown",
   "id": "6f271bc6",
   "metadata": {
    "papermill": {
     "duration": 0.01896,
     "end_time": "2022-08-20T20:05:37.289458",
     "exception": false,
     "start_time": "2022-08-20T20:05:37.270498",
     "status": "completed"
    },
    "tags": []
   },
   "source": [
    "**There is the following information about the passengers of some airline:**\n",
    "\n",
    "1. **Gender:** male or female\n",
    "2. **Customer type:** regular or non-regular airline customer\n",
    "3. **Age:** the actual age of the passenger\n",
    "4. **Type of travel:** the purpose of the passenger's flight (personal or business travel)\n",
    "5. **Class:** business, economy, economy plus\n",
    "6. **Flight distance**\n",
    "7. **Inflight wifi service:** satisfaction level with Wi-Fi service on board (0: not rated; 1-5)\n",
    "8. **Departure/Arrival time convenient:** departure/arrival time satisfaction level (0: not rated; 1-5)\n",
    "9. **Ease of Online booking:** online booking satisfaction rate (0: not rated; 1-5)\n",
    "10. **Gate location:** level of satisfaction with the gate location (0: not rated; 1-5)\n",
    "11. **Food and drink:** food and drink satisfaction level (0: not rated; 1-5)\n",
    "12. **Online boarding:** satisfaction level with online boarding (0: not rated; 1-5)\n",
    "13. **Seat comfort:** seat satisfaction level (0: not rated; 1-5)\n",
    "14. **Inflight entertainment:** satisfaction with inflight entertainment (0: not rated; 1-5)\n",
    "15. **On-board service:** level of satisfaction with on-board service (0: not rated; 1-5)\n",
    "16. **Leg room service**: level of satisfaction with leg room service (0: not rated; 1-5)\n",
    "17. **Baggage handling:** level of satisfaction with baggage handling (0: not rated; 1-5)\n",
    "18. **Checkin service:** level of satisfaction with checkin service (0: not rated; 1-5)\n",
    "19. **Inflight service:** level of satisfaction with inflight service (0: not rated; 1-5)\n",
    "20. **Cleanliness:** level of satisfaction with cleanliness (0: not rated; 1-5)\n",
    "21. **Departure delay in minutes**\n",
    "22. **Arrival delay in minutes**\n",
    "\n",
    "This data set contains a survey on <b>air passenger satisfaction</b>. The following <b>classification problem</b> is set:\n",
    "\n",
    "It is necessary to predict which of the <b>two</b> levels of satisfaction with the airline the passenger belongs to:\n",
    "<ol>\n",
    "    <li><em>Satisfaction</em></li>\n",
    "    <li><em>Neutral or dissatisfied</em></li>\n",
    "</ol>"
   ]
  },
  {
   "cell_type": "markdown",
   "id": "f7525798",
   "metadata": {
    "papermill": {
     "duration": 0.018521,
     "end_time": "2022-08-20T20:05:37.326851",
     "exception": false,
     "start_time": "2022-08-20T20:05:37.308330",
     "status": "completed"
    },
    "tags": []
   },
   "source": [
    "<div style=\"border-width:1; border-radius: 15px; border-style: solid; border-color: rgb(10, 10, 10); background-color: #52ab98; text-align: center;font: 14pt 'Candara';font-weight:bold;\"><h1>Reading data</h1></div>"
   ]
  },
  {
   "cell_type": "code",
   "execution_count": 1,
   "id": "cab00033",
   "metadata": {
    "execution": {
     "iopub.execute_input": "2022-08-20T20:05:37.367129Z",
     "iopub.status.busy": "2022-08-20T20:05:37.366358Z",
     "iopub.status.idle": "2022-08-20T20:05:38.572923Z",
     "shell.execute_reply": "2022-08-20T20:05:38.571669Z"
    },
    "papermill": {
     "duration": 1.230087,
     "end_time": "2022-08-20T20:05:38.575932",
     "exception": false,
     "start_time": "2022-08-20T20:05:37.345845",
     "status": "completed"
    },
    "tags": []
   },
   "outputs": [],
   "source": [
    "import numpy as np\n",
    "import matplotlib.pyplot as plt\n",
    "import pandas as pd\n",
    "import sklearn\n",
    "from sklearn.neural_network import MLPClassifier\n",
    "from sklearn.metrics import accuracy_score\n",
    "import warnings\n",
    "warnings.filterwarnings(\"ignore\")\n",
    "%matplotlib inline"
   ]
  },
  {
   "cell_type": "code",
   "execution_count": 2,
   "id": "cfd30205",
   "metadata": {
    "execution": {
     "iopub.execute_input": "2022-08-20T20:05:38.616733Z",
     "iopub.status.busy": "2022-08-20T20:05:38.616218Z",
     "iopub.status.idle": "2022-08-20T20:05:39.017616Z",
     "shell.execute_reply": "2022-08-20T20:05:39.016239Z"
    },
    "papermill": {
     "duration": 0.425088,
     "end_time": "2022-08-20T20:05:39.020294",
     "exception": false,
     "start_time": "2022-08-20T20:05:38.595206",
     "status": "completed"
    },
    "tags": []
   },
   "outputs": [],
   "source": [
    "data = pd.read_csv(\"/kaggle/input/airline-passenger-satisfaction/train.csv\")"
   ]
  },
  {
   "cell_type": "markdown",
   "id": "6a6b0526",
   "metadata": {
    "papermill": {
     "duration": 0.01881,
     "end_time": "2022-08-20T20:05:39.058509",
     "exception": false,
     "start_time": "2022-08-20T20:05:39.039699",
     "status": "completed"
    },
    "tags": []
   },
   "source": [
    "Table dimensions:"
   ]
  },
  {
   "cell_type": "code",
   "execution_count": 3,
   "id": "b06a2c4c",
   "metadata": {
    "execution": {
     "iopub.execute_input": "2022-08-20T20:05:39.098489Z",
     "iopub.status.busy": "2022-08-20T20:05:39.098088Z",
     "iopub.status.idle": "2022-08-20T20:05:39.107777Z",
     "shell.execute_reply": "2022-08-20T20:05:39.106310Z"
    },
    "papermill": {
     "duration": 0.033572,
     "end_time": "2022-08-20T20:05:39.111107",
     "exception": false,
     "start_time": "2022-08-20T20:05:39.077535",
     "status": "completed"
    },
    "tags": []
   },
   "outputs": [
    {
     "data": {
      "text/plain": [
       "(103904, 25)"
      ]
     },
     "execution_count": 3,
     "metadata": {},
     "output_type": "execute_result"
    }
   ],
   "source": [
    "data.shape"
   ]
  },
  {
   "cell_type": "markdown",
   "id": "333fbe57",
   "metadata": {
    "papermill": {
     "duration": 0.01894,
     "end_time": "2022-08-20T20:05:39.149468",
     "exception": false,
     "start_time": "2022-08-20T20:05:39.130528",
     "status": "completed"
    },
    "tags": []
   },
   "source": [
    "Each row corresponds to one passenger, and each column to a specific feature.<br>\n",
    "Let's look at the first row of the data set:"
   ]
  },
  {
   "cell_type": "code",
   "execution_count": 4,
   "id": "3a9fb1d5",
   "metadata": {
    "execution": {
     "iopub.execute_input": "2022-08-20T20:05:39.190034Z",
     "iopub.status.busy": "2022-08-20T20:05:39.189635Z",
     "iopub.status.idle": "2022-08-20T20:05:39.224336Z",
     "shell.execute_reply": "2022-08-20T20:05:39.223100Z"
    },
    "papermill": {
     "duration": 0.057692,
     "end_time": "2022-08-20T20:05:39.226786",
     "exception": false,
     "start_time": "2022-08-20T20:05:39.169094",
     "status": "completed"
    },
    "tags": []
   },
   "outputs": [
    {
     "data": {
      "text/html": [
       "<div>\n",
       "<style scoped>\n",
       "    .dataframe tbody tr th:only-of-type {\n",
       "        vertical-align: middle;\n",
       "    }\n",
       "\n",
       "    .dataframe tbody tr th {\n",
       "        vertical-align: top;\n",
       "    }\n",
       "\n",
       "    .dataframe thead th {\n",
       "        text-align: right;\n",
       "    }\n",
       "</style>\n",
       "<table border=\"1\" class=\"dataframe\">\n",
       "  <thead>\n",
       "    <tr style=\"text-align: right;\">\n",
       "      <th></th>\n",
       "      <th>Unnamed: 0</th>\n",
       "      <th>id</th>\n",
       "      <th>Gender</th>\n",
       "      <th>Customer Type</th>\n",
       "      <th>Age</th>\n",
       "      <th>Type of Travel</th>\n",
       "      <th>Class</th>\n",
       "      <th>Flight Distance</th>\n",
       "      <th>Inflight wifi service</th>\n",
       "      <th>Departure/Arrival time convenient</th>\n",
       "      <th>...</th>\n",
       "      <th>Inflight entertainment</th>\n",
       "      <th>On-board service</th>\n",
       "      <th>Leg room service</th>\n",
       "      <th>Baggage handling</th>\n",
       "      <th>Checkin service</th>\n",
       "      <th>Inflight service</th>\n",
       "      <th>Cleanliness</th>\n",
       "      <th>Departure Delay in Minutes</th>\n",
       "      <th>Arrival Delay in Minutes</th>\n",
       "      <th>satisfaction</th>\n",
       "    </tr>\n",
       "  </thead>\n",
       "  <tbody>\n",
       "    <tr>\n",
       "      <th>0</th>\n",
       "      <td>0</td>\n",
       "      <td>70172</td>\n",
       "      <td>Male</td>\n",
       "      <td>Loyal Customer</td>\n",
       "      <td>13</td>\n",
       "      <td>Personal Travel</td>\n",
       "      <td>Eco Plus</td>\n",
       "      <td>460</td>\n",
       "      <td>3</td>\n",
       "      <td>4</td>\n",
       "      <td>...</td>\n",
       "      <td>5</td>\n",
       "      <td>4</td>\n",
       "      <td>3</td>\n",
       "      <td>4</td>\n",
       "      <td>4</td>\n",
       "      <td>5</td>\n",
       "      <td>5</td>\n",
       "      <td>25</td>\n",
       "      <td>18.0</td>\n",
       "      <td>neutral or dissatisfied</td>\n",
       "    </tr>\n",
       "    <tr>\n",
       "      <th>1</th>\n",
       "      <td>1</td>\n",
       "      <td>5047</td>\n",
       "      <td>Male</td>\n",
       "      <td>disloyal Customer</td>\n",
       "      <td>25</td>\n",
       "      <td>Business travel</td>\n",
       "      <td>Business</td>\n",
       "      <td>235</td>\n",
       "      <td>3</td>\n",
       "      <td>2</td>\n",
       "      <td>...</td>\n",
       "      <td>1</td>\n",
       "      <td>1</td>\n",
       "      <td>5</td>\n",
       "      <td>3</td>\n",
       "      <td>1</td>\n",
       "      <td>4</td>\n",
       "      <td>1</td>\n",
       "      <td>1</td>\n",
       "      <td>6.0</td>\n",
       "      <td>neutral or dissatisfied</td>\n",
       "    </tr>\n",
       "    <tr>\n",
       "      <th>2</th>\n",
       "      <td>2</td>\n",
       "      <td>110028</td>\n",
       "      <td>Female</td>\n",
       "      <td>Loyal Customer</td>\n",
       "      <td>26</td>\n",
       "      <td>Business travel</td>\n",
       "      <td>Business</td>\n",
       "      <td>1142</td>\n",
       "      <td>2</td>\n",
       "      <td>2</td>\n",
       "      <td>...</td>\n",
       "      <td>5</td>\n",
       "      <td>4</td>\n",
       "      <td>3</td>\n",
       "      <td>4</td>\n",
       "      <td>4</td>\n",
       "      <td>4</td>\n",
       "      <td>5</td>\n",
       "      <td>0</td>\n",
       "      <td>0.0</td>\n",
       "      <td>satisfied</td>\n",
       "    </tr>\n",
       "    <tr>\n",
       "      <th>3</th>\n",
       "      <td>3</td>\n",
       "      <td>24026</td>\n",
       "      <td>Female</td>\n",
       "      <td>Loyal Customer</td>\n",
       "      <td>25</td>\n",
       "      <td>Business travel</td>\n",
       "      <td>Business</td>\n",
       "      <td>562</td>\n",
       "      <td>2</td>\n",
       "      <td>5</td>\n",
       "      <td>...</td>\n",
       "      <td>2</td>\n",
       "      <td>2</td>\n",
       "      <td>5</td>\n",
       "      <td>3</td>\n",
       "      <td>1</td>\n",
       "      <td>4</td>\n",
       "      <td>2</td>\n",
       "      <td>11</td>\n",
       "      <td>9.0</td>\n",
       "      <td>neutral or dissatisfied</td>\n",
       "    </tr>\n",
       "    <tr>\n",
       "      <th>4</th>\n",
       "      <td>4</td>\n",
       "      <td>119299</td>\n",
       "      <td>Male</td>\n",
       "      <td>Loyal Customer</td>\n",
       "      <td>61</td>\n",
       "      <td>Business travel</td>\n",
       "      <td>Business</td>\n",
       "      <td>214</td>\n",
       "      <td>3</td>\n",
       "      <td>3</td>\n",
       "      <td>...</td>\n",
       "      <td>3</td>\n",
       "      <td>3</td>\n",
       "      <td>4</td>\n",
       "      <td>4</td>\n",
       "      <td>3</td>\n",
       "      <td>3</td>\n",
       "      <td>3</td>\n",
       "      <td>0</td>\n",
       "      <td>0.0</td>\n",
       "      <td>satisfied</td>\n",
       "    </tr>\n",
       "  </tbody>\n",
       "</table>\n",
       "<p>5 rows × 25 columns</p>\n",
       "</div>"
      ],
      "text/plain": [
       "   Unnamed: 0      id  Gender      Customer Type  Age   Type of Travel  \\\n",
       "0           0   70172    Male     Loyal Customer   13  Personal Travel   \n",
       "1           1    5047    Male  disloyal Customer   25  Business travel   \n",
       "2           2  110028  Female     Loyal Customer   26  Business travel   \n",
       "3           3   24026  Female     Loyal Customer   25  Business travel   \n",
       "4           4  119299    Male     Loyal Customer   61  Business travel   \n",
       "\n",
       "      Class  Flight Distance  Inflight wifi service  \\\n",
       "0  Eco Plus              460                      3   \n",
       "1  Business              235                      3   \n",
       "2  Business             1142                      2   \n",
       "3  Business              562                      2   \n",
       "4  Business              214                      3   \n",
       "\n",
       "   Departure/Arrival time convenient  ...  Inflight entertainment  \\\n",
       "0                                  4  ...                       5   \n",
       "1                                  2  ...                       1   \n",
       "2                                  2  ...                       5   \n",
       "3                                  5  ...                       2   \n",
       "4                                  3  ...                       3   \n",
       "\n",
       "   On-board service  Leg room service  Baggage handling  Checkin service  \\\n",
       "0                 4                 3                 4                4   \n",
       "1                 1                 5                 3                1   \n",
       "2                 4                 3                 4                4   \n",
       "3                 2                 5                 3                1   \n",
       "4                 3                 4                 4                3   \n",
       "\n",
       "   Inflight service  Cleanliness  Departure Delay in Minutes  \\\n",
       "0                 5            5                          25   \n",
       "1                 4            1                           1   \n",
       "2                 4            5                           0   \n",
       "3                 4            2                          11   \n",
       "4                 3            3                           0   \n",
       "\n",
       "   Arrival Delay in Minutes             satisfaction  \n",
       "0                      18.0  neutral or dissatisfied  \n",
       "1                       6.0  neutral or dissatisfied  \n",
       "2                       0.0                satisfied  \n",
       "3                       9.0  neutral or dissatisfied  \n",
       "4                       0.0                satisfied  \n",
       "\n",
       "[5 rows x 25 columns]"
      ]
     },
     "execution_count": 4,
     "metadata": {},
     "output_type": "execute_result"
    }
   ],
   "source": [
    "data.head()"
   ]
  },
  {
   "cell_type": "markdown",
   "id": "6a61cd10",
   "metadata": {
    "papermill": {
     "duration": 0.019364,
     "end_time": "2022-08-20T20:05:39.265937",
     "exception": false,
     "start_time": "2022-08-20T20:05:39.246573",
     "status": "completed"
    },
    "tags": []
   },
   "source": [
    "Let's take a closer look at the dataset data:"
   ]
  },
  {
   "cell_type": "code",
   "execution_count": 5,
   "id": "2bae08a5",
   "metadata": {
    "execution": {
     "iopub.execute_input": "2022-08-20T20:05:39.307557Z",
     "iopub.status.busy": "2022-08-20T20:05:39.307130Z",
     "iopub.status.idle": "2022-08-20T20:05:39.357747Z",
     "shell.execute_reply": "2022-08-20T20:05:39.356758Z"
    },
    "papermill": {
     "duration": 0.074449,
     "end_time": "2022-08-20T20:05:39.360458",
     "exception": false,
     "start_time": "2022-08-20T20:05:39.286009",
     "status": "completed"
    },
    "tags": []
   },
   "outputs": [
    {
     "name": "stdout",
     "output_type": "stream",
     "text": [
      "<class 'pandas.core.frame.DataFrame'>\n",
      "RangeIndex: 103904 entries, 0 to 103903\n",
      "Data columns (total 25 columns):\n",
      " #   Column                             Non-Null Count   Dtype  \n",
      "---  ------                             --------------   -----  \n",
      " 0   Unnamed: 0                         103904 non-null  int64  \n",
      " 1   id                                 103904 non-null  int64  \n",
      " 2   Gender                             103904 non-null  object \n",
      " 3   Customer Type                      103904 non-null  object \n",
      " 4   Age                                103904 non-null  int64  \n",
      " 5   Type of Travel                     103904 non-null  object \n",
      " 6   Class                              103904 non-null  object \n",
      " 7   Flight Distance                    103904 non-null  int64  \n",
      " 8   Inflight wifi service              103904 non-null  int64  \n",
      " 9   Departure/Arrival time convenient  103904 non-null  int64  \n",
      " 10  Ease of Online booking             103904 non-null  int64  \n",
      " 11  Gate location                      103904 non-null  int64  \n",
      " 12  Food and drink                     103904 non-null  int64  \n",
      " 13  Online boarding                    103904 non-null  int64  \n",
      " 14  Seat comfort                       103904 non-null  int64  \n",
      " 15  Inflight entertainment             103904 non-null  int64  \n",
      " 16  On-board service                   103904 non-null  int64  \n",
      " 17  Leg room service                   103904 non-null  int64  \n",
      " 18  Baggage handling                   103904 non-null  int64  \n",
      " 19  Checkin service                    103904 non-null  int64  \n",
      " 20  Inflight service                   103904 non-null  int64  \n",
      " 21  Cleanliness                        103904 non-null  int64  \n",
      " 22  Departure Delay in Minutes         103904 non-null  int64  \n",
      " 23  Arrival Delay in Minutes           103594 non-null  float64\n",
      " 24  satisfaction                       103904 non-null  object \n",
      "dtypes: float64(1), int64(19), object(5)\n",
      "memory usage: 19.8+ MB\n"
     ]
    }
   ],
   "source": [
    "data.info()"
   ]
  },
  {
   "cell_type": "markdown",
   "id": "49069033",
   "metadata": {
    "papermill": {
     "duration": 0.019932,
     "end_time": "2022-08-20T20:05:39.400267",
     "exception": false,
     "start_time": "2022-08-20T20:05:39.380335",
     "status": "completed"
    },
    "tags": []
   },
   "source": [
    "You may notice the following:\n",
    "<ol>\n",
    "     <li><b>The column</b> corresponding to the <b>Arrival Delay in Minutes feature has 310 missing values</b>.</li>\n",
    "     <li><b>The first two features are useless and will not affect the classification</b>, so you should get rid of them.</li>\n",
    "     <li><b>Many columns contain categorical values</b> but are of type 'object' or 'int64'. Let's replace this type with a special one designed for storing categorical values.</li>\n",
    "</ol>"
   ]
  },
  {
   "cell_type": "code",
   "execution_count": 6,
   "id": "fcc41a8f",
   "metadata": {
    "execution": {
     "iopub.execute_input": "2022-08-20T20:05:39.443651Z",
     "iopub.status.busy": "2022-08-20T20:05:39.442764Z",
     "iopub.status.idle": "2022-08-20T20:05:39.462110Z",
     "shell.execute_reply": "2022-08-20T20:05:39.460906Z"
    },
    "papermill": {
     "duration": 0.044065,
     "end_time": "2022-08-20T20:05:39.465054",
     "exception": false,
     "start_time": "2022-08-20T20:05:39.420989",
     "status": "completed"
    },
    "tags": []
   },
   "outputs": [],
   "source": [
    "data = data.drop(data.iloc[:,[0, 1]], axis = 1)"
   ]
  },
  {
   "cell_type": "code",
   "execution_count": 7,
   "id": "375eb6af",
   "metadata": {
    "execution": {
     "iopub.execute_input": "2022-08-20T20:05:39.508220Z",
     "iopub.status.busy": "2022-08-20T20:05:39.507772Z",
     "iopub.status.idle": "2022-08-20T20:05:39.630658Z",
     "shell.execute_reply": "2022-08-20T20:05:39.629489Z"
    },
    "papermill": {
     "duration": 0.147571,
     "end_time": "2022-08-20T20:05:39.633342",
     "exception": false,
     "start_time": "2022-08-20T20:05:39.485771",
     "status": "completed"
    },
    "tags": []
   },
   "outputs": [],
   "source": [
    "categorical_indexes = [0, 1, 3, 4] + list(range(6, 20))\n",
    "data.iloc[:,categorical_indexes] = data.iloc[:,categorical_indexes].astype('category')"
   ]
  },
  {
   "cell_type": "markdown",
   "id": "b7775b5d",
   "metadata": {
    "papermill": {
     "duration": 0.019557,
     "end_time": "2022-08-20T20:05:39.673033",
     "exception": false,
     "start_time": "2022-08-20T20:05:39.653476",
     "status": "completed"
    },
    "tags": []
   },
   "source": [
    "Now the dataset information looks like this:"
   ]
  },
  {
   "cell_type": "code",
   "execution_count": 8,
   "id": "52399d16",
   "metadata": {
    "execution": {
     "iopub.execute_input": "2022-08-20T20:05:39.715018Z",
     "iopub.status.busy": "2022-08-20T20:05:39.714604Z",
     "iopub.status.idle": "2022-08-20T20:05:39.745850Z",
     "shell.execute_reply": "2022-08-20T20:05:39.744795Z"
    },
    "papermill": {
     "duration": 0.055683,
     "end_time": "2022-08-20T20:05:39.748705",
     "exception": false,
     "start_time": "2022-08-20T20:05:39.693022",
     "status": "completed"
    },
    "tags": []
   },
   "outputs": [
    {
     "name": "stdout",
     "output_type": "stream",
     "text": [
      "<class 'pandas.core.frame.DataFrame'>\n",
      "RangeIndex: 103904 entries, 0 to 103903\n",
      "Data columns (total 23 columns):\n",
      " #   Column                             Non-Null Count   Dtype   \n",
      "---  ------                             --------------   -----   \n",
      " 0   Gender                             103904 non-null  category\n",
      " 1   Customer Type                      103904 non-null  category\n",
      " 2   Age                                103904 non-null  int64   \n",
      " 3   Type of Travel                     103904 non-null  category\n",
      " 4   Class                              103904 non-null  category\n",
      " 5   Flight Distance                    103904 non-null  int64   \n",
      " 6   Inflight wifi service              103904 non-null  category\n",
      " 7   Departure/Arrival time convenient  103904 non-null  category\n",
      " 8   Ease of Online booking             103904 non-null  category\n",
      " 9   Gate location                      103904 non-null  category\n",
      " 10  Food and drink                     103904 non-null  category\n",
      " 11  Online boarding                    103904 non-null  category\n",
      " 12  Seat comfort                       103904 non-null  category\n",
      " 13  Inflight entertainment             103904 non-null  category\n",
      " 14  On-board service                   103904 non-null  category\n",
      " 15  Leg room service                   103904 non-null  category\n",
      " 16  Baggage handling                   103904 non-null  category\n",
      " 17  Checkin service                    103904 non-null  category\n",
      " 18  Inflight service                   103904 non-null  category\n",
      " 19  Cleanliness                        103904 non-null  category\n",
      " 20  Departure Delay in Minutes         103904 non-null  int64   \n",
      " 21  Arrival Delay in Minutes           103594 non-null  float64 \n",
      " 22  satisfaction                       103904 non-null  object  \n",
      "dtypes: category(18), float64(1), int64(3), object(1)\n",
      "memory usage: 5.8+ MB\n"
     ]
    }
   ],
   "source": [
    "data.info()"
   ]
  },
  {
   "cell_type": "markdown",
   "id": "20933f2b",
   "metadata": {
    "papermill": {
     "duration": 0.020245,
     "end_time": "2022-08-20T20:05:39.789292",
     "exception": false,
     "start_time": "2022-08-20T20:05:39.769047",
     "status": "completed"
    },
    "tags": []
   },
   "source": [
    "The first 22 features have been detailed above. The <b>satisfaction</b> feature is the target."
   ]
  },
  {
   "cell_type": "markdown",
   "id": "f11ab52b",
   "metadata": {
    "papermill": {
     "duration": 0.02015,
     "end_time": "2022-08-20T20:05:39.829477",
     "exception": false,
     "start_time": "2022-08-20T20:05:39.809327",
     "status": "completed"
    },
    "tags": []
   },
   "source": [
    "<div style=\"border-width:1; border-radius: 15px; border-style: solid; border-color: rgb(10, 10, 10); background-color: #52ab98; text-align: center;font: 14pt 'Candara';font-weight:bold;\"><h1>Filling in missing values</h1></div>"
   ]
  },
  {
   "cell_type": "markdown",
   "id": "904bb18f",
   "metadata": {
    "papermill": {
     "duration": 0.019683,
     "end_time": "2022-08-20T20:05:39.869347",
     "exception": false,
     "start_time": "2022-08-20T20:05:39.849664",
     "status": "completed"
    },
    "tags": []
   },
   "source": [
    "Let's see how many missing values are in each column of the table:"
   ]
  },
  {
   "cell_type": "code",
   "execution_count": 9,
   "id": "8b371244",
   "metadata": {
    "execution": {
     "iopub.execute_input": "2022-08-20T20:05:39.912943Z",
     "iopub.status.busy": "2022-08-20T20:05:39.912059Z",
     "iopub.status.idle": "2022-08-20T20:05:39.932406Z",
     "shell.execute_reply": "2022-08-20T20:05:39.931569Z"
    },
    "papermill": {
     "duration": 0.045358,
     "end_time": "2022-08-20T20:05:39.934653",
     "exception": false,
     "start_time": "2022-08-20T20:05:39.889295",
     "status": "completed"
    },
    "tags": []
   },
   "outputs": [
    {
     "data": {
      "text/plain": [
       "Gender                                 0\n",
       "Customer Type                          0\n",
       "Age                                    0\n",
       "Type of Travel                         0\n",
       "Class                                  0\n",
       "Flight Distance                        0\n",
       "Inflight wifi service                  0\n",
       "Departure/Arrival time convenient      0\n",
       "Ease of Online booking                 0\n",
       "Gate location                          0\n",
       "Food and drink                         0\n",
       "Online boarding                        0\n",
       "Seat comfort                           0\n",
       "Inflight entertainment                 0\n",
       "On-board service                       0\n",
       "Leg room service                       0\n",
       "Baggage handling                       0\n",
       "Checkin service                        0\n",
       "Inflight service                       0\n",
       "Cleanliness                            0\n",
       "Departure Delay in Minutes             0\n",
       "Arrival Delay in Minutes             310\n",
       "satisfaction                           0\n",
       "dtype: int64"
      ]
     },
     "execution_count": 9,
     "metadata": {},
     "output_type": "execute_result"
    }
   ],
   "source": [
    "data.isna().sum()"
   ]
  },
  {
   "cell_type": "markdown",
   "id": "fac6d2ea",
   "metadata": {
    "papermill": {
     "duration": 0.019875,
     "end_time": "2022-08-20T20:05:39.974976",
     "exception": false,
     "start_time": "2022-08-20T20:05:39.955101",
     "status": "completed"
    },
    "tags": []
   },
   "source": [
    "Fill in the missing values with <b>medians</b> in the columns corresponding to quantitative features:"
   ]
  },
  {
   "cell_type": "code",
   "execution_count": 10,
   "id": "c656590b",
   "metadata": {
    "execution": {
     "iopub.execute_input": "2022-08-20T20:05:40.018336Z",
     "iopub.status.busy": "2022-08-20T20:05:40.017169Z",
     "iopub.status.idle": "2022-08-20T20:05:40.027835Z",
     "shell.execute_reply": "2022-08-20T20:05:40.026705Z"
    },
    "papermill": {
     "duration": 0.035093,
     "end_time": "2022-08-20T20:05:40.030387",
     "exception": false,
     "start_time": "2022-08-20T20:05:39.995294",
     "status": "completed"
    },
    "tags": []
   },
   "outputs": [],
   "source": [
    "data['Arrival Delay in Minutes'].fillna(data['Arrival Delay in Minutes'].median(axis = 0), inplace = True)"
   ]
  },
  {
   "cell_type": "code",
   "execution_count": 11,
   "id": "4ee9363d",
   "metadata": {
    "execution": {
     "iopub.execute_input": "2022-08-20T20:05:40.073163Z",
     "iopub.status.busy": "2022-08-20T20:05:40.072422Z",
     "iopub.status.idle": "2022-08-20T20:05:40.091454Z",
     "shell.execute_reply": "2022-08-20T20:05:40.090555Z"
    },
    "papermill": {
     "duration": 0.043059,
     "end_time": "2022-08-20T20:05:40.093834",
     "exception": false,
     "start_time": "2022-08-20T20:05:40.050775",
     "status": "completed"
    },
    "tags": []
   },
   "outputs": [
    {
     "data": {
      "text/plain": [
       "Gender                               0\n",
       "Customer Type                        0\n",
       "Age                                  0\n",
       "Type of Travel                       0\n",
       "Class                                0\n",
       "Flight Distance                      0\n",
       "Inflight wifi service                0\n",
       "Departure/Arrival time convenient    0\n",
       "Ease of Online booking               0\n",
       "Gate location                        0\n",
       "Food and drink                       0\n",
       "Online boarding                      0\n",
       "Seat comfort                         0\n",
       "Inflight entertainment               0\n",
       "On-board service                     0\n",
       "Leg room service                     0\n",
       "Baggage handling                     0\n",
       "Checkin service                      0\n",
       "Inflight service                     0\n",
       "Cleanliness                          0\n",
       "Departure Delay in Minutes           0\n",
       "Arrival Delay in Minutes             0\n",
       "satisfaction                         0\n",
       "dtype: int64"
      ]
     },
     "execution_count": 11,
     "metadata": {},
     "output_type": "execute_result"
    }
   ],
   "source": [
    "data.isna().sum()"
   ]
  },
  {
   "cell_type": "code",
   "execution_count": 12,
   "id": "1b4e8603",
   "metadata": {
    "execution": {
     "iopub.execute_input": "2022-08-20T20:05:40.136641Z",
     "iopub.status.busy": "2022-08-20T20:05:40.136178Z",
     "iopub.status.idle": "2022-08-20T20:05:40.181818Z",
     "shell.execute_reply": "2022-08-20T20:05:40.180769Z"
    },
    "papermill": {
     "duration": 0.070393,
     "end_time": "2022-08-20T20:05:40.184570",
     "exception": false,
     "start_time": "2022-08-20T20:05:40.114177",
     "status": "completed"
    },
    "tags": []
   },
   "outputs": [
    {
     "data": {
      "text/html": [
       "<div>\n",
       "<style scoped>\n",
       "    .dataframe tbody tr th:only-of-type {\n",
       "        vertical-align: middle;\n",
       "    }\n",
       "\n",
       "    .dataframe tbody tr th {\n",
       "        vertical-align: top;\n",
       "    }\n",
       "\n",
       "    .dataframe thead th {\n",
       "        text-align: right;\n",
       "    }\n",
       "</style>\n",
       "<table border=\"1\" class=\"dataframe\">\n",
       "  <thead>\n",
       "    <tr style=\"text-align: right;\">\n",
       "      <th></th>\n",
       "      <th>Age</th>\n",
       "      <th>Flight Distance</th>\n",
       "      <th>Departure Delay in Minutes</th>\n",
       "      <th>Arrival Delay in Minutes</th>\n",
       "    </tr>\n",
       "  </thead>\n",
       "  <tbody>\n",
       "    <tr>\n",
       "      <th>count</th>\n",
       "      <td>103904.000000</td>\n",
       "      <td>103904.000000</td>\n",
       "      <td>103904.000000</td>\n",
       "      <td>103904.000000</td>\n",
       "    </tr>\n",
       "    <tr>\n",
       "      <th>mean</th>\n",
       "      <td>39.379706</td>\n",
       "      <td>1189.448375</td>\n",
       "      <td>14.815618</td>\n",
       "      <td>15.133392</td>\n",
       "    </tr>\n",
       "    <tr>\n",
       "      <th>std</th>\n",
       "      <td>15.114964</td>\n",
       "      <td>997.147281</td>\n",
       "      <td>38.230901</td>\n",
       "      <td>38.649776</td>\n",
       "    </tr>\n",
       "    <tr>\n",
       "      <th>min</th>\n",
       "      <td>7.000000</td>\n",
       "      <td>31.000000</td>\n",
       "      <td>0.000000</td>\n",
       "      <td>0.000000</td>\n",
       "    </tr>\n",
       "    <tr>\n",
       "      <th>25%</th>\n",
       "      <td>27.000000</td>\n",
       "      <td>414.000000</td>\n",
       "      <td>0.000000</td>\n",
       "      <td>0.000000</td>\n",
       "    </tr>\n",
       "    <tr>\n",
       "      <th>50%</th>\n",
       "      <td>40.000000</td>\n",
       "      <td>843.000000</td>\n",
       "      <td>0.000000</td>\n",
       "      <td>0.000000</td>\n",
       "    </tr>\n",
       "    <tr>\n",
       "      <th>75%</th>\n",
       "      <td>51.000000</td>\n",
       "      <td>1743.000000</td>\n",
       "      <td>12.000000</td>\n",
       "      <td>13.000000</td>\n",
       "    </tr>\n",
       "    <tr>\n",
       "      <th>max</th>\n",
       "      <td>85.000000</td>\n",
       "      <td>4983.000000</td>\n",
       "      <td>1592.000000</td>\n",
       "      <td>1584.000000</td>\n",
       "    </tr>\n",
       "  </tbody>\n",
       "</table>\n",
       "</div>"
      ],
      "text/plain": [
       "                 Age  Flight Distance  Departure Delay in Minutes  \\\n",
       "count  103904.000000    103904.000000               103904.000000   \n",
       "mean       39.379706      1189.448375                   14.815618   \n",
       "std        15.114964       997.147281                   38.230901   \n",
       "min         7.000000        31.000000                    0.000000   \n",
       "25%        27.000000       414.000000                    0.000000   \n",
       "50%        40.000000       843.000000                    0.000000   \n",
       "75%        51.000000      1743.000000                   12.000000   \n",
       "max        85.000000      4983.000000                 1592.000000   \n",
       "\n",
       "       Arrival Delay in Minutes  \n",
       "count             103904.000000  \n",
       "mean                  15.133392  \n",
       "std                   38.649776  \n",
       "min                    0.000000  \n",
       "25%                    0.000000  \n",
       "50%                    0.000000  \n",
       "75%                   13.000000  \n",
       "max                 1584.000000  "
      ]
     },
     "execution_count": 12,
     "metadata": {},
     "output_type": "execute_result"
    }
   ],
   "source": [
    "data.describe()"
   ]
  },
  {
   "cell_type": "markdown",
   "id": "c332034b",
   "metadata": {
    "papermill": {
     "duration": 0.020802,
     "end_time": "2022-08-20T20:05:40.226199",
     "exception": false,
     "start_time": "2022-08-20T20:05:40.205397",
     "status": "completed"
    },
    "tags": []
   },
   "source": [
    "This table shows that there are no more missing values."
   ]
  },
  {
   "cell_type": "markdown",
   "id": "691cd3d5",
   "metadata": {
    "papermill": {
     "duration": 0.020142,
     "end_time": "2022-08-20T20:05:40.267151",
     "exception": false,
     "start_time": "2022-08-20T20:05:40.247009",
     "status": "completed"
    },
    "tags": []
   },
   "source": [
    "<div style=\"border-width:1; border-radius: 15px; border-style: solid; border-color: rgb(10, 10, 10); background-color: #52ab98; text-align: center;font: 14pt 'Candara';font-weight:bold;\"><h1>Handling categorical features</h1></div>"
   ]
  },
  {
   "cell_type": "markdown",
   "id": "71b212a7",
   "metadata": {
    "papermill": {
     "duration": 0.020125,
     "end_time": "2022-08-20T20:05:40.307919",
     "exception": false,
     "start_time": "2022-08-20T20:05:40.287794",
     "status": "completed"
    },
    "tags": []
   },
   "source": [
    "We divide the signs into quantitative and categorical:"
   ]
  },
  {
   "cell_type": "code",
   "execution_count": 13,
   "id": "ae7846ad",
   "metadata": {
    "execution": {
     "iopub.execute_input": "2022-08-20T20:05:40.351409Z",
     "iopub.status.busy": "2022-08-20T20:05:40.350990Z",
     "iopub.status.idle": "2022-08-20T20:05:40.403396Z",
     "shell.execute_reply": "2022-08-20T20:05:40.402191Z"
    },
    "papermill": {
     "duration": 0.078174,
     "end_time": "2022-08-20T20:05:40.406465",
     "exception": false,
     "start_time": "2022-08-20T20:05:40.328291",
     "status": "completed"
    },
    "tags": []
   },
   "outputs": [],
   "source": [
    "numerical_columns = [c for c in data.columns if data[c].dtype.name != 'category']\n",
    "numerical_columns.remove('satisfaction')\n",
    "categorical_columns = [c for c in data.columns if data[c].dtype.name == 'category']\n",
    "data_describe = data.describe(include = ['category'])"
   ]
  },
  {
   "cell_type": "markdown",
   "id": "6bc995f6",
   "metadata": {
    "papermill": {
     "duration": 0.020592,
     "end_time": "2022-08-20T20:05:40.447854",
     "exception": false,
     "start_time": "2022-08-20T20:05:40.427262",
     "status": "completed"
    },
    "tags": []
   },
   "source": [
    "We divide categorical features into binary and non-binary:"
   ]
  },
  {
   "cell_type": "code",
   "execution_count": 14,
   "id": "87d373eb",
   "metadata": {
    "execution": {
     "iopub.execute_input": "2022-08-20T20:05:40.491310Z",
     "iopub.status.busy": "2022-08-20T20:05:40.490867Z",
     "iopub.status.idle": "2022-08-20T20:05:40.499771Z",
     "shell.execute_reply": "2022-08-20T20:05:40.498291Z"
    },
    "papermill": {
     "duration": 0.033948,
     "end_time": "2022-08-20T20:05:40.502420",
     "exception": false,
     "start_time": "2022-08-20T20:05:40.468472",
     "status": "completed"
    },
    "tags": []
   },
   "outputs": [
    {
     "name": "stdout",
     "output_type": "stream",
     "text": [
      "['Gender', 'Customer Type', 'Type of Travel'] ['Class', 'Inflight wifi service', 'Departure/Arrival time convenient', 'Ease of Online booking', 'Gate location', 'Food and drink', 'Online boarding', 'Seat comfort', 'Inflight entertainment', 'On-board service', 'Leg room service', 'Baggage handling', 'Checkin service', 'Inflight service', 'Cleanliness']\n"
     ]
    }
   ],
   "source": [
    "binary_columns = [c for c in categorical_columns if data_describe[c]['unique'] == 2]\n",
    "nonbinary_columns = [c for c in categorical_columns if data_describe[c]['unique'] > 2]\n",
    "print(binary_columns, nonbinary_columns)"
   ]
  },
  {
   "cell_type": "markdown",
   "id": "bb54e06f",
   "metadata": {
    "papermill": {
     "duration": 0.020606,
     "end_time": "2022-08-20T20:05:40.543903",
     "exception": false,
     "start_time": "2022-08-20T20:05:40.523297",
     "status": "completed"
    },
    "tags": []
   },
   "source": [
    "Let's look at the unique values for each binary feature:"
   ]
  },
  {
   "cell_type": "code",
   "execution_count": 15,
   "id": "13d6861c",
   "metadata": {
    "execution": {
     "iopub.execute_input": "2022-08-20T20:05:40.587213Z",
     "iopub.status.busy": "2022-08-20T20:05:40.586829Z",
     "iopub.status.idle": "2022-08-20T20:05:40.601714Z",
     "shell.execute_reply": "2022-08-20T20:05:40.600468Z"
    },
    "papermill": {
     "duration": 0.039123,
     "end_time": "2022-08-20T20:05:40.604093",
     "exception": false,
     "start_time": "2022-08-20T20:05:40.564970",
     "status": "completed"
    },
    "tags": []
   },
   "outputs": [
    {
     "name": "stdout",
     "output_type": "stream",
     "text": [
      "Gender : Male, Female.\n",
      "Customer Type : Loyal Customer, disloyal Customer.\n",
      "Type of Travel : Personal Travel, Business travel.\n"
     ]
    }
   ],
   "source": [
    "for col in binary_columns:\n",
    "    print(col, ': ', end = '')\n",
    "    for uniq in data[col].unique():\n",
    "        if uniq == data[col].unique()[-1]:\n",
    "            print(uniq, end = '.')\n",
    "        else:\n",
    "            print(uniq, end = ', ')\n",
    "    print()"
   ]
  },
  {
   "cell_type": "markdown",
   "id": "6034fa53",
   "metadata": {
    "papermill": {
     "duration": 0.020499,
     "end_time": "2022-08-20T20:05:40.645794",
     "exception": false,
     "start_time": "2022-08-20T20:05:40.625295",
     "status": "completed"
    },
    "tags": []
   },
   "source": [
    "Let's do the binarization:"
   ]
  },
  {
   "cell_type": "code",
   "execution_count": 16,
   "id": "21568996",
   "metadata": {
    "execution": {
     "iopub.execute_input": "2022-08-20T20:05:40.690511Z",
     "iopub.status.busy": "2022-08-20T20:05:40.689271Z",
     "iopub.status.idle": "2022-08-20T20:05:40.837326Z",
     "shell.execute_reply": "2022-08-20T20:05:40.835571Z"
    },
    "papermill": {
     "duration": 0.173791,
     "end_time": "2022-08-20T20:05:40.840194",
     "exception": false,
     "start_time": "2022-08-20T20:05:40.666403",
     "status": "completed"
    },
    "tags": []
   },
   "outputs": [
    {
     "name": "stdout",
     "output_type": "stream",
     "text": [
      "count     103904\n",
      "unique         2\n",
      "top            1\n",
      "freq       52727\n",
      "Name: Gender, dtype: int64\n",
      "\n",
      "count     103904\n",
      "unique         2\n",
      "top            0\n",
      "freq       84923\n",
      "Name: Customer Type, dtype: int64\n",
      "\n",
      "count     103904\n",
      "unique         2\n",
      "top            1\n",
      "freq       71655\n",
      "Name: Type of Travel, dtype: int64\n",
      "\n"
     ]
    }
   ],
   "source": [
    "for col in binary_columns:\n",
    "    data[col] = data[col].astype('object')\n",
    "    k = 0\n",
    "    for uniq in data[col].unique():\n",
    "        data.at[data[col] == uniq, col] = k\n",
    "        k +=1 \n",
    "for col in binary_columns:\n",
    "    print(data[col].describe(), end = '\\n\\n')"
   ]
  },
  {
   "cell_type": "markdown",
   "id": "eb48fb61",
   "metadata": {
    "papermill": {
     "duration": 0.0204,
     "end_time": "2022-08-20T20:05:40.881551",
     "exception": false,
     "start_time": "2022-08-20T20:05:40.861151",
     "status": "completed"
    },
    "tags": []
   },
   "source": [
    "Now let's look at non-binary categorical features:"
   ]
  },
  {
   "cell_type": "code",
   "execution_count": 17,
   "id": "8922fb75",
   "metadata": {
    "execution": {
     "iopub.execute_input": "2022-08-20T20:05:40.925324Z",
     "iopub.status.busy": "2022-08-20T20:05:40.924926Z",
     "iopub.status.idle": "2022-08-20T20:05:40.960317Z",
     "shell.execute_reply": "2022-08-20T20:05:40.959095Z"
    },
    "papermill": {
     "duration": 0.060576,
     "end_time": "2022-08-20T20:05:40.962752",
     "exception": false,
     "start_time": "2022-08-20T20:05:40.902176",
     "status": "completed"
    },
    "tags": []
   },
   "outputs": [
    {
     "data": {
      "text/html": [
       "<div>\n",
       "<style scoped>\n",
       "    .dataframe tbody tr th:only-of-type {\n",
       "        vertical-align: middle;\n",
       "    }\n",
       "\n",
       "    .dataframe tbody tr th {\n",
       "        vertical-align: top;\n",
       "    }\n",
       "\n",
       "    .dataframe thead th {\n",
       "        text-align: right;\n",
       "    }\n",
       "</style>\n",
       "<table border=\"1\" class=\"dataframe\">\n",
       "  <thead>\n",
       "    <tr style=\"text-align: right;\">\n",
       "      <th></th>\n",
       "      <th>Class</th>\n",
       "      <th>Inflight wifi service</th>\n",
       "      <th>Departure/Arrival time convenient</th>\n",
       "      <th>Ease of Online booking</th>\n",
       "      <th>Gate location</th>\n",
       "      <th>Food and drink</th>\n",
       "      <th>Online boarding</th>\n",
       "      <th>Seat comfort</th>\n",
       "      <th>Inflight entertainment</th>\n",
       "      <th>On-board service</th>\n",
       "      <th>Leg room service</th>\n",
       "      <th>Baggage handling</th>\n",
       "      <th>Checkin service</th>\n",
       "      <th>Inflight service</th>\n",
       "      <th>Cleanliness</th>\n",
       "    </tr>\n",
       "  </thead>\n",
       "  <tbody>\n",
       "    <tr>\n",
       "      <th>0</th>\n",
       "      <td>Eco Plus</td>\n",
       "      <td>3</td>\n",
       "      <td>4</td>\n",
       "      <td>3</td>\n",
       "      <td>1</td>\n",
       "      <td>5</td>\n",
       "      <td>3</td>\n",
       "      <td>5</td>\n",
       "      <td>5</td>\n",
       "      <td>4</td>\n",
       "      <td>3</td>\n",
       "      <td>4</td>\n",
       "      <td>4</td>\n",
       "      <td>5</td>\n",
       "      <td>5</td>\n",
       "    </tr>\n",
       "    <tr>\n",
       "      <th>1</th>\n",
       "      <td>Business</td>\n",
       "      <td>3</td>\n",
       "      <td>2</td>\n",
       "      <td>3</td>\n",
       "      <td>3</td>\n",
       "      <td>1</td>\n",
       "      <td>3</td>\n",
       "      <td>1</td>\n",
       "      <td>1</td>\n",
       "      <td>1</td>\n",
       "      <td>5</td>\n",
       "      <td>3</td>\n",
       "      <td>1</td>\n",
       "      <td>4</td>\n",
       "      <td>1</td>\n",
       "    </tr>\n",
       "    <tr>\n",
       "      <th>2</th>\n",
       "      <td>Business</td>\n",
       "      <td>2</td>\n",
       "      <td>2</td>\n",
       "      <td>2</td>\n",
       "      <td>2</td>\n",
       "      <td>5</td>\n",
       "      <td>5</td>\n",
       "      <td>5</td>\n",
       "      <td>5</td>\n",
       "      <td>4</td>\n",
       "      <td>3</td>\n",
       "      <td>4</td>\n",
       "      <td>4</td>\n",
       "      <td>4</td>\n",
       "      <td>5</td>\n",
       "    </tr>\n",
       "    <tr>\n",
       "      <th>3</th>\n",
       "      <td>Business</td>\n",
       "      <td>2</td>\n",
       "      <td>5</td>\n",
       "      <td>5</td>\n",
       "      <td>5</td>\n",
       "      <td>2</td>\n",
       "      <td>2</td>\n",
       "      <td>2</td>\n",
       "      <td>2</td>\n",
       "      <td>2</td>\n",
       "      <td>5</td>\n",
       "      <td>3</td>\n",
       "      <td>1</td>\n",
       "      <td>4</td>\n",
       "      <td>2</td>\n",
       "    </tr>\n",
       "    <tr>\n",
       "      <th>4</th>\n",
       "      <td>Business</td>\n",
       "      <td>3</td>\n",
       "      <td>3</td>\n",
       "      <td>3</td>\n",
       "      <td>3</td>\n",
       "      <td>4</td>\n",
       "      <td>5</td>\n",
       "      <td>5</td>\n",
       "      <td>3</td>\n",
       "      <td>3</td>\n",
       "      <td>4</td>\n",
       "      <td>4</td>\n",
       "      <td>3</td>\n",
       "      <td>3</td>\n",
       "      <td>3</td>\n",
       "    </tr>\n",
       "    <tr>\n",
       "      <th>...</th>\n",
       "      <td>...</td>\n",
       "      <td>...</td>\n",
       "      <td>...</td>\n",
       "      <td>...</td>\n",
       "      <td>...</td>\n",
       "      <td>...</td>\n",
       "      <td>...</td>\n",
       "      <td>...</td>\n",
       "      <td>...</td>\n",
       "      <td>...</td>\n",
       "      <td>...</td>\n",
       "      <td>...</td>\n",
       "      <td>...</td>\n",
       "      <td>...</td>\n",
       "      <td>...</td>\n",
       "    </tr>\n",
       "    <tr>\n",
       "      <th>103899</th>\n",
       "      <td>Eco</td>\n",
       "      <td>2</td>\n",
       "      <td>1</td>\n",
       "      <td>2</td>\n",
       "      <td>3</td>\n",
       "      <td>2</td>\n",
       "      <td>2</td>\n",
       "      <td>2</td>\n",
       "      <td>2</td>\n",
       "      <td>3</td>\n",
       "      <td>1</td>\n",
       "      <td>4</td>\n",
       "      <td>2</td>\n",
       "      <td>3</td>\n",
       "      <td>2</td>\n",
       "    </tr>\n",
       "    <tr>\n",
       "      <th>103900</th>\n",
       "      <td>Business</td>\n",
       "      <td>4</td>\n",
       "      <td>4</td>\n",
       "      <td>4</td>\n",
       "      <td>4</td>\n",
       "      <td>2</td>\n",
       "      <td>4</td>\n",
       "      <td>5</td>\n",
       "      <td>5</td>\n",
       "      <td>5</td>\n",
       "      <td>5</td>\n",
       "      <td>5</td>\n",
       "      <td>5</td>\n",
       "      <td>5</td>\n",
       "      <td>4</td>\n",
       "    </tr>\n",
       "    <tr>\n",
       "      <th>103901</th>\n",
       "      <td>Business</td>\n",
       "      <td>1</td>\n",
       "      <td>1</td>\n",
       "      <td>1</td>\n",
       "      <td>3</td>\n",
       "      <td>4</td>\n",
       "      <td>1</td>\n",
       "      <td>5</td>\n",
       "      <td>4</td>\n",
       "      <td>3</td>\n",
       "      <td>2</td>\n",
       "      <td>4</td>\n",
       "      <td>5</td>\n",
       "      <td>5</td>\n",
       "      <td>4</td>\n",
       "    </tr>\n",
       "    <tr>\n",
       "      <th>103902</th>\n",
       "      <td>Eco</td>\n",
       "      <td>1</td>\n",
       "      <td>1</td>\n",
       "      <td>1</td>\n",
       "      <td>5</td>\n",
       "      <td>1</td>\n",
       "      <td>1</td>\n",
       "      <td>1</td>\n",
       "      <td>1</td>\n",
       "      <td>4</td>\n",
       "      <td>5</td>\n",
       "      <td>1</td>\n",
       "      <td>5</td>\n",
       "      <td>4</td>\n",
       "      <td>1</td>\n",
       "    </tr>\n",
       "    <tr>\n",
       "      <th>103903</th>\n",
       "      <td>Business</td>\n",
       "      <td>1</td>\n",
       "      <td>3</td>\n",
       "      <td>3</td>\n",
       "      <td>3</td>\n",
       "      <td>1</td>\n",
       "      <td>1</td>\n",
       "      <td>1</td>\n",
       "      <td>1</td>\n",
       "      <td>1</td>\n",
       "      <td>1</td>\n",
       "      <td>4</td>\n",
       "      <td>4</td>\n",
       "      <td>3</td>\n",
       "      <td>1</td>\n",
       "    </tr>\n",
       "  </tbody>\n",
       "</table>\n",
       "<p>103904 rows × 15 columns</p>\n",
       "</div>"
      ],
      "text/plain": [
       "           Class Inflight wifi service Departure/Arrival time convenient  \\\n",
       "0       Eco Plus                     3                                 4   \n",
       "1       Business                     3                                 2   \n",
       "2       Business                     2                                 2   \n",
       "3       Business                     2                                 5   \n",
       "4       Business                     3                                 3   \n",
       "...          ...                   ...                               ...   \n",
       "103899       Eco                     2                                 1   \n",
       "103900  Business                     4                                 4   \n",
       "103901  Business                     1                                 1   \n",
       "103902       Eco                     1                                 1   \n",
       "103903  Business                     1                                 3   \n",
       "\n",
       "       Ease of Online booking Gate location Food and drink Online boarding  \\\n",
       "0                           3             1              5               3   \n",
       "1                           3             3              1               3   \n",
       "2                           2             2              5               5   \n",
       "3                           5             5              2               2   \n",
       "4                           3             3              4               5   \n",
       "...                       ...           ...            ...             ...   \n",
       "103899                      2             3              2               2   \n",
       "103900                      4             4              2               4   \n",
       "103901                      1             3              4               1   \n",
       "103902                      1             5              1               1   \n",
       "103903                      3             3              1               1   \n",
       "\n",
       "       Seat comfort Inflight entertainment On-board service Leg room service  \\\n",
       "0                 5                      5                4                3   \n",
       "1                 1                      1                1                5   \n",
       "2                 5                      5                4                3   \n",
       "3                 2                      2                2                5   \n",
       "4                 5                      3                3                4   \n",
       "...             ...                    ...              ...              ...   \n",
       "103899            2                      2                3                1   \n",
       "103900            5                      5                5                5   \n",
       "103901            5                      4                3                2   \n",
       "103902            1                      1                4                5   \n",
       "103903            1                      1                1                1   \n",
       "\n",
       "       Baggage handling Checkin service Inflight service Cleanliness  \n",
       "0                     4               4                5           5  \n",
       "1                     3               1                4           1  \n",
       "2                     4               4                4           5  \n",
       "3                     3               1                4           2  \n",
       "4                     4               3                3           3  \n",
       "...                 ...             ...              ...         ...  \n",
       "103899                4               2                3           2  \n",
       "103900                5               5                5           4  \n",
       "103901                4               5                5           4  \n",
       "103902                1               5                4           1  \n",
       "103903                4               4                3           1  \n",
       "\n",
       "[103904 rows x 15 columns]"
      ]
     },
     "execution_count": 17,
     "metadata": {},
     "output_type": "execute_result"
    }
   ],
   "source": [
    "data[nonbinary_columns]"
   ]
  },
  {
   "cell_type": "markdown",
   "id": "62323bdc",
   "metadata": {
    "papermill": {
     "duration": 0.021013,
     "end_time": "2022-08-20T20:05:41.005651",
     "exception": false,
     "start_time": "2022-08-20T20:05:40.984638",
     "status": "completed"
    },
    "tags": []
   },
   "source": [
    "The following vectorization method is applicable to non-binary features:\n",
    "\n",
    "The feature j, which takes s values, will be replaced by s features, which take the values 0 or 1, depending on what the value of the original feature j is.\n",
    "\n",
    "This vectorization is carried out by the get_dummies method:"
   ]
  },
  {
   "cell_type": "code",
   "execution_count": 18,
   "id": "e1b1912e",
   "metadata": {
    "execution": {
     "iopub.execute_input": "2022-08-20T20:05:41.051033Z",
     "iopub.status.busy": "2022-08-20T20:05:41.050630Z",
     "iopub.status.idle": "2022-08-20T20:05:41.122034Z",
     "shell.execute_reply": "2022-08-20T20:05:41.120555Z"
    },
    "papermill": {
     "duration": 0.097626,
     "end_time": "2022-08-20T20:05:41.124554",
     "exception": false,
     "start_time": "2022-08-20T20:05:41.026928",
     "status": "completed"
    },
    "tags": []
   },
   "outputs": [
    {
     "name": "stdout",
     "output_type": "stream",
     "text": [
      "Index(['Class_Business', 'Class_Eco', 'Class_Eco Plus',\n",
      "       'Inflight wifi service_0', 'Inflight wifi service_1',\n",
      "       'Inflight wifi service_2', 'Inflight wifi service_3',\n",
      "       'Inflight wifi service_4', 'Inflight wifi service_5',\n",
      "       'Departure/Arrival time convenient_0',\n",
      "       'Departure/Arrival time convenient_1',\n",
      "       'Departure/Arrival time convenient_2',\n",
      "       'Departure/Arrival time convenient_3',\n",
      "       'Departure/Arrival time convenient_4',\n",
      "       'Departure/Arrival time convenient_5', 'Ease of Online booking_0',\n",
      "       'Ease of Online booking_1', 'Ease of Online booking_2',\n",
      "       'Ease of Online booking_3', 'Ease of Online booking_4',\n",
      "       'Ease of Online booking_5', 'Gate location_0', 'Gate location_1',\n",
      "       'Gate location_2', 'Gate location_3', 'Gate location_4',\n",
      "       'Gate location_5', 'Food and drink_0', 'Food and drink_1',\n",
      "       'Food and drink_2', 'Food and drink_3', 'Food and drink_4',\n",
      "       'Food and drink_5', 'Online boarding_0', 'Online boarding_1',\n",
      "       'Online boarding_2', 'Online boarding_3', 'Online boarding_4',\n",
      "       'Online boarding_5', 'Seat comfort_0', 'Seat comfort_1',\n",
      "       'Seat comfort_2', 'Seat comfort_3', 'Seat comfort_4', 'Seat comfort_5',\n",
      "       'Inflight entertainment_0', 'Inflight entertainment_1',\n",
      "       'Inflight entertainment_2', 'Inflight entertainment_3',\n",
      "       'Inflight entertainment_4', 'Inflight entertainment_5',\n",
      "       'On-board service_0', 'On-board service_1', 'On-board service_2',\n",
      "       'On-board service_3', 'On-board service_4', 'On-board service_5',\n",
      "       'Leg room service_0', 'Leg room service_1', 'Leg room service_2',\n",
      "       'Leg room service_3', 'Leg room service_4', 'Leg room service_5',\n",
      "       'Baggage handling_1', 'Baggage handling_2', 'Baggage handling_3',\n",
      "       'Baggage handling_4', 'Baggage handling_5', 'Checkin service_0',\n",
      "       'Checkin service_1', 'Checkin service_2', 'Checkin service_3',\n",
      "       'Checkin service_4', 'Checkin service_5', 'Inflight service_0',\n",
      "       'Inflight service_1', 'Inflight service_2', 'Inflight service_3',\n",
      "       'Inflight service_4', 'Inflight service_5', 'Cleanliness_0',\n",
      "       'Cleanliness_1', 'Cleanliness_2', 'Cleanliness_3', 'Cleanliness_4',\n",
      "       'Cleanliness_5'],\n",
      "      dtype='object')\n"
     ]
    }
   ],
   "source": [
    "data_nonbinary = pd.get_dummies(data[nonbinary_columns])\n",
    "print(data_nonbinary.columns)"
   ]
  },
  {
   "cell_type": "code",
   "execution_count": 19,
   "id": "ea9bba53",
   "metadata": {
    "execution": {
     "iopub.execute_input": "2022-08-20T20:05:41.169550Z",
     "iopub.status.busy": "2022-08-20T20:05:41.169133Z",
     "iopub.status.idle": "2022-08-20T20:05:41.176474Z",
     "shell.execute_reply": "2022-08-20T20:05:41.175239Z"
    },
    "papermill": {
     "duration": 0.032913,
     "end_time": "2022-08-20T20:05:41.178862",
     "exception": false,
     "start_time": "2022-08-20T20:05:41.145949",
     "status": "completed"
    },
    "tags": []
   },
   "outputs": [
    {
     "data": {
      "text/plain": [
       "86"
      ]
     },
     "execution_count": 19,
     "metadata": {},
     "output_type": "execute_result"
    }
   ],
   "source": [
    "len(data_nonbinary.columns)"
   ]
  },
  {
   "cell_type": "markdown",
   "id": "5a1aae9e",
   "metadata": {
    "papermill": {
     "duration": 0.021171,
     "end_time": "2022-08-20T20:05:41.221748",
     "exception": false,
     "start_time": "2022-08-20T20:05:41.200577",
     "status": "completed"
    },
    "tags": []
   },
   "source": [
    "<div style=\"border-width:1; border-radius: 15px; border-style: solid; border-color: rgb(10, 10, 10); background-color: #52ab98; text-align: center;font: 14pt 'Candara';font-weight:bold;\"><h1>Normalization of quantitative features</h1></div>"
   ]
  },
  {
   "cell_type": "markdown",
   "id": "80fa00d9",
   "metadata": {
    "papermill": {
     "duration": 0.021209,
     "end_time": "2022-08-20T20:05:41.264788",
     "exception": false,
     "start_time": "2022-08-20T20:05:41.243579",
     "status": "completed"
    },
    "tags": []
   },
   "source": [
    "We have the following quantitative characteristics:"
   ]
  },
  {
   "cell_type": "code",
   "execution_count": 20,
   "id": "d5d9892e",
   "metadata": {
    "execution": {
     "iopub.execute_input": "2022-08-20T20:05:41.309895Z",
     "iopub.status.busy": "2022-08-20T20:05:41.309504Z",
     "iopub.status.idle": "2022-08-20T20:05:41.350090Z",
     "shell.execute_reply": "2022-08-20T20:05:41.348821Z"
    },
    "papermill": {
     "duration": 0.066191,
     "end_time": "2022-08-20T20:05:41.352628",
     "exception": false,
     "start_time": "2022-08-20T20:05:41.286437",
     "status": "completed"
    },
    "tags": []
   },
   "outputs": [
    {
     "data": {
      "text/html": [
       "<div>\n",
       "<style scoped>\n",
       "    .dataframe tbody tr th:only-of-type {\n",
       "        vertical-align: middle;\n",
       "    }\n",
       "\n",
       "    .dataframe tbody tr th {\n",
       "        vertical-align: top;\n",
       "    }\n",
       "\n",
       "    .dataframe thead th {\n",
       "        text-align: right;\n",
       "    }\n",
       "</style>\n",
       "<table border=\"1\" class=\"dataframe\">\n",
       "  <thead>\n",
       "    <tr style=\"text-align: right;\">\n",
       "      <th></th>\n",
       "      <th>Age</th>\n",
       "      <th>Flight Distance</th>\n",
       "      <th>Departure Delay in Minutes</th>\n",
       "      <th>Arrival Delay in Minutes</th>\n",
       "    </tr>\n",
       "  </thead>\n",
       "  <tbody>\n",
       "    <tr>\n",
       "      <th>count</th>\n",
       "      <td>103904.000000</td>\n",
       "      <td>103904.000000</td>\n",
       "      <td>103904.000000</td>\n",
       "      <td>103904.000000</td>\n",
       "    </tr>\n",
       "    <tr>\n",
       "      <th>mean</th>\n",
       "      <td>39.379706</td>\n",
       "      <td>1189.448375</td>\n",
       "      <td>14.815618</td>\n",
       "      <td>15.133392</td>\n",
       "    </tr>\n",
       "    <tr>\n",
       "      <th>std</th>\n",
       "      <td>15.114964</td>\n",
       "      <td>997.147281</td>\n",
       "      <td>38.230901</td>\n",
       "      <td>38.649776</td>\n",
       "    </tr>\n",
       "    <tr>\n",
       "      <th>min</th>\n",
       "      <td>7.000000</td>\n",
       "      <td>31.000000</td>\n",
       "      <td>0.000000</td>\n",
       "      <td>0.000000</td>\n",
       "    </tr>\n",
       "    <tr>\n",
       "      <th>25%</th>\n",
       "      <td>27.000000</td>\n",
       "      <td>414.000000</td>\n",
       "      <td>0.000000</td>\n",
       "      <td>0.000000</td>\n",
       "    </tr>\n",
       "    <tr>\n",
       "      <th>50%</th>\n",
       "      <td>40.000000</td>\n",
       "      <td>843.000000</td>\n",
       "      <td>0.000000</td>\n",
       "      <td>0.000000</td>\n",
       "    </tr>\n",
       "    <tr>\n",
       "      <th>75%</th>\n",
       "      <td>51.000000</td>\n",
       "      <td>1743.000000</td>\n",
       "      <td>12.000000</td>\n",
       "      <td>13.000000</td>\n",
       "    </tr>\n",
       "    <tr>\n",
       "      <th>max</th>\n",
       "      <td>85.000000</td>\n",
       "      <td>4983.000000</td>\n",
       "      <td>1592.000000</td>\n",
       "      <td>1584.000000</td>\n",
       "    </tr>\n",
       "  </tbody>\n",
       "</table>\n",
       "</div>"
      ],
      "text/plain": [
       "                 Age  Flight Distance  Departure Delay in Minutes  \\\n",
       "count  103904.000000    103904.000000               103904.000000   \n",
       "mean       39.379706      1189.448375                   14.815618   \n",
       "std        15.114964       997.147281                   38.230901   \n",
       "min         7.000000        31.000000                    0.000000   \n",
       "25%        27.000000       414.000000                    0.000000   \n",
       "50%        40.000000       843.000000                    0.000000   \n",
       "75%        51.000000      1743.000000                   12.000000   \n",
       "max        85.000000      4983.000000                 1592.000000   \n",
       "\n",
       "       Arrival Delay in Minutes  \n",
       "count             103904.000000  \n",
       "mean                  15.133392  \n",
       "std                   38.649776  \n",
       "min                    0.000000  \n",
       "25%                    0.000000  \n",
       "50%                    0.000000  \n",
       "75%                   13.000000  \n",
       "max                 1584.000000  "
      ]
     },
     "execution_count": 20,
     "metadata": {},
     "output_type": "execute_result"
    }
   ],
   "source": [
    "data_numerical = data[numerical_columns]\n",
    "data_numerical.describe()"
   ]
  },
  {
   "cell_type": "markdown",
   "id": "c4c9eda6",
   "metadata": {
    "papermill": {
     "duration": 0.021488,
     "end_time": "2022-08-20T20:05:41.395818",
     "exception": false,
     "start_time": "2022-08-20T20:05:41.374330",
     "status": "completed"
    },
    "tags": []
   },
   "source": [
    "Let's perform a <b>standardization</b> (<em>linear transformation that reduces all values to zero mean and one standard deviation</em>) of all quantitative features:"
   ]
  },
  {
   "cell_type": "code",
   "execution_count": 21,
   "id": "f4939727",
   "metadata": {
    "execution": {
     "iopub.execute_input": "2022-08-20T20:05:41.440872Z",
     "iopub.status.busy": "2022-08-20T20:05:41.440479Z",
     "iopub.status.idle": "2022-08-20T20:05:41.453677Z",
     "shell.execute_reply": "2022-08-20T20:05:41.452631Z"
    },
    "papermill": {
     "duration": 0.039025,
     "end_time": "2022-08-20T20:05:41.456281",
     "exception": false,
     "start_time": "2022-08-20T20:05:41.417256",
     "status": "completed"
    },
    "tags": []
   },
   "outputs": [],
   "source": [
    "data_numerical = (data_numerical - data_numerical.mean(axis = 0))/data_numerical.std(axis = 0)"
   ]
  },
  {
   "cell_type": "code",
   "execution_count": 22,
   "id": "24432c6a",
   "metadata": {
    "execution": {
     "iopub.execute_input": "2022-08-20T20:05:41.502928Z",
     "iopub.status.busy": "2022-08-20T20:05:41.502073Z",
     "iopub.status.idle": "2022-08-20T20:05:41.547211Z",
     "shell.execute_reply": "2022-08-20T20:05:41.546079Z"
    },
    "papermill": {
     "duration": 0.071417,
     "end_time": "2022-08-20T20:05:41.550005",
     "exception": false,
     "start_time": "2022-08-20T20:05:41.478588",
     "status": "completed"
    },
    "tags": []
   },
   "outputs": [
    {
     "data": {
      "text/html": [
       "<div>\n",
       "<style scoped>\n",
       "    .dataframe tbody tr th:only-of-type {\n",
       "        vertical-align: middle;\n",
       "    }\n",
       "\n",
       "    .dataframe tbody tr th {\n",
       "        vertical-align: top;\n",
       "    }\n",
       "\n",
       "    .dataframe thead th {\n",
       "        text-align: right;\n",
       "    }\n",
       "</style>\n",
       "<table border=\"1\" class=\"dataframe\">\n",
       "  <thead>\n",
       "    <tr style=\"text-align: right;\">\n",
       "      <th></th>\n",
       "      <th>Age</th>\n",
       "      <th>Flight Distance</th>\n",
       "      <th>Departure Delay in Minutes</th>\n",
       "      <th>Arrival Delay in Minutes</th>\n",
       "    </tr>\n",
       "  </thead>\n",
       "  <tbody>\n",
       "    <tr>\n",
       "      <th>count</th>\n",
       "      <td>1.039040e+05</td>\n",
       "      <td>1.039040e+05</td>\n",
       "      <td>1.039040e+05</td>\n",
       "      <td>1.039040e+05</td>\n",
       "    </tr>\n",
       "    <tr>\n",
       "      <th>mean</th>\n",
       "      <td>-2.549034e-17</td>\n",
       "      <td>8.000991e-17</td>\n",
       "      <td>1.853221e-17</td>\n",
       "      <td>1.463429e-17</td>\n",
       "    </tr>\n",
       "    <tr>\n",
       "      <th>std</th>\n",
       "      <td>1.000000e+00</td>\n",
       "      <td>1.000000e+00</td>\n",
       "      <td>1.000000e+00</td>\n",
       "      <td>1.000000e+00</td>\n",
       "    </tr>\n",
       "    <tr>\n",
       "      <th>min</th>\n",
       "      <td>-2.142229e+00</td>\n",
       "      <td>-1.161763e+00</td>\n",
       "      <td>-3.875299e-01</td>\n",
       "      <td>-3.915519e-01</td>\n",
       "    </tr>\n",
       "    <tr>\n",
       "      <th>25%</th>\n",
       "      <td>-8.190365e-01</td>\n",
       "      <td>-7.776668e-01</td>\n",
       "      <td>-3.875299e-01</td>\n",
       "      <td>-3.915519e-01</td>\n",
       "    </tr>\n",
       "    <tr>\n",
       "      <th>50%</th>\n",
       "      <td>4.103839e-02</td>\n",
       "      <td>-3.474395e-01</td>\n",
       "      <td>-3.875299e-01</td>\n",
       "      <td>-3.915519e-01</td>\n",
       "    </tr>\n",
       "    <tr>\n",
       "      <th>75%</th>\n",
       "      <td>7.687940e-01</td>\n",
       "      <td>5.551353e-01</td>\n",
       "      <td>-7.364771e-02</td>\n",
       "      <td>-5.519805e-02</td>\n",
       "    </tr>\n",
       "    <tr>\n",
       "      <th>max</th>\n",
       "      <td>3.018221e+00</td>\n",
       "      <td>3.804405e+00</td>\n",
       "      <td>4.125418e+01</td>\n",
       "      <td>4.059187e+01</td>\n",
       "    </tr>\n",
       "  </tbody>\n",
       "</table>\n",
       "</div>"
      ],
      "text/plain": [
       "                Age  Flight Distance  Departure Delay in Minutes  \\\n",
       "count  1.039040e+05     1.039040e+05                1.039040e+05   \n",
       "mean  -2.549034e-17     8.000991e-17                1.853221e-17   \n",
       "std    1.000000e+00     1.000000e+00                1.000000e+00   \n",
       "min   -2.142229e+00    -1.161763e+00               -3.875299e-01   \n",
       "25%   -8.190365e-01    -7.776668e-01               -3.875299e-01   \n",
       "50%    4.103839e-02    -3.474395e-01               -3.875299e-01   \n",
       "75%    7.687940e-01     5.551353e-01               -7.364771e-02   \n",
       "max    3.018221e+00     3.804405e+00                4.125418e+01   \n",
       "\n",
       "       Arrival Delay in Minutes  \n",
       "count              1.039040e+05  \n",
       "mean               1.463429e-17  \n",
       "std                1.000000e+00  \n",
       "min               -3.915519e-01  \n",
       "25%               -3.915519e-01  \n",
       "50%               -3.915519e-01  \n",
       "75%               -5.519805e-02  \n",
       "max                4.059187e+01  "
      ]
     },
     "execution_count": 22,
     "metadata": {},
     "output_type": "execute_result"
    }
   ],
   "source": [
    "data_numerical.describe()"
   ]
  },
  {
   "cell_type": "markdown",
   "id": "782f2ed0",
   "metadata": {
    "papermill": {
     "duration": 0.021777,
     "end_time": "2022-08-20T20:05:41.593634",
     "exception": false,
     "start_time": "2022-08-20T20:05:41.571857",
     "status": "completed"
    },
    "tags": []
   },
   "source": [
    "<div style=\"border-width:1; border-radius: 15px; border-style: solid; border-color: rgb(10, 10, 10); background-color: #52ab98; text-align: center;font: 14pt 'Candara';font-weight:bold;\"><h1>Table formation</h1></div>"
   ]
  },
  {
   "cell_type": "markdown",
   "id": "69606057",
   "metadata": {
    "papermill": {
     "duration": 0.022557,
     "end_time": "2022-08-20T20:05:41.638292",
     "exception": false,
     "start_time": "2022-08-20T20:05:41.615735",
     "status": "completed"
    },
    "tags": []
   },
   "source": [
    "We join all the transformed columns into one table:"
   ]
  },
  {
   "cell_type": "code",
   "execution_count": 23,
   "id": "05e0de16",
   "metadata": {
    "execution": {
     "iopub.execute_input": "2022-08-20T20:05:41.684662Z",
     "iopub.status.busy": "2022-08-20T20:05:41.683866Z",
     "iopub.status.idle": "2022-08-20T20:05:41.705166Z",
     "shell.execute_reply": "2022-08-20T20:05:41.703748Z"
    },
    "papermill": {
     "duration": 0.047582,
     "end_time": "2022-08-20T20:05:41.707827",
     "exception": false,
     "start_time": "2022-08-20T20:05:41.660245",
     "status": "completed"
    },
    "tags": []
   },
   "outputs": [
    {
     "name": "stdout",
     "output_type": "stream",
     "text": [
      "(103904, 93)\n"
     ]
    }
   ],
   "source": [
    "target = data['satisfaction']\n",
    "data = pd.concat((data_numerical, data_nonbinary, data[binary_columns]), axis = 1)\n",
    "print(data.shape)"
   ]
  },
  {
   "cell_type": "markdown",
   "id": "3caf4142",
   "metadata": {
    "papermill": {
     "duration": 0.022036,
     "end_time": "2022-08-20T20:05:41.751970",
     "exception": false,
     "start_time": "2022-08-20T20:05:41.729934",
     "status": "completed"
    },
    "tags": []
   },
   "source": [
    "Now it looks like this:"
   ]
  },
  {
   "cell_type": "code",
   "execution_count": 24,
   "id": "d2262361",
   "metadata": {
    "execution": {
     "iopub.execute_input": "2022-08-20T20:05:41.798358Z",
     "iopub.status.busy": "2022-08-20T20:05:41.797595Z",
     "iopub.status.idle": "2022-08-20T20:05:42.193280Z",
     "shell.execute_reply": "2022-08-20T20:05:42.192182Z"
    },
    "papermill": {
     "duration": 0.421498,
     "end_time": "2022-08-20T20:05:42.195777",
     "exception": false,
     "start_time": "2022-08-20T20:05:41.774279",
     "status": "completed"
    },
    "tags": []
   },
   "outputs": [
    {
     "data": {
      "text/html": [
       "<div>\n",
       "<style scoped>\n",
       "    .dataframe tbody tr th:only-of-type {\n",
       "        vertical-align: middle;\n",
       "    }\n",
       "\n",
       "    .dataframe tbody tr th {\n",
       "        vertical-align: top;\n",
       "    }\n",
       "\n",
       "    .dataframe thead th {\n",
       "        text-align: right;\n",
       "    }\n",
       "</style>\n",
       "<table border=\"1\" class=\"dataframe\">\n",
       "  <thead>\n",
       "    <tr style=\"text-align: right;\">\n",
       "      <th></th>\n",
       "      <th>Age</th>\n",
       "      <th>Flight Distance</th>\n",
       "      <th>Departure Delay in Minutes</th>\n",
       "      <th>Arrival Delay in Minutes</th>\n",
       "      <th>Class_Business</th>\n",
       "      <th>Class_Eco</th>\n",
       "      <th>Class_Eco Plus</th>\n",
       "      <th>Inflight wifi service_0</th>\n",
       "      <th>Inflight wifi service_1</th>\n",
       "      <th>Inflight wifi service_2</th>\n",
       "      <th>...</th>\n",
       "      <th>Inflight service_2</th>\n",
       "      <th>Inflight service_3</th>\n",
       "      <th>Inflight service_4</th>\n",
       "      <th>Inflight service_5</th>\n",
       "      <th>Cleanliness_0</th>\n",
       "      <th>Cleanliness_1</th>\n",
       "      <th>Cleanliness_2</th>\n",
       "      <th>Cleanliness_3</th>\n",
       "      <th>Cleanliness_4</th>\n",
       "      <th>Cleanliness_5</th>\n",
       "    </tr>\n",
       "  </thead>\n",
       "  <tbody>\n",
       "    <tr>\n",
       "      <th>count</th>\n",
       "      <td>1.039040e+05</td>\n",
       "      <td>1.039040e+05</td>\n",
       "      <td>1.039040e+05</td>\n",
       "      <td>1.039040e+05</td>\n",
       "      <td>103904.000000</td>\n",
       "      <td>103904.000000</td>\n",
       "      <td>103904.000000</td>\n",
       "      <td>103904.000000</td>\n",
       "      <td>103904.000000</td>\n",
       "      <td>103904.000000</td>\n",
       "      <td>...</td>\n",
       "      <td>103904.000000</td>\n",
       "      <td>103904.000000</td>\n",
       "      <td>103904.000000</td>\n",
       "      <td>103904.000000</td>\n",
       "      <td>103904.000000</td>\n",
       "      <td>103904.000000</td>\n",
       "      <td>103904.000000</td>\n",
       "      <td>103904.000000</td>\n",
       "      <td>103904.000000</td>\n",
       "      <td>103904.000000</td>\n",
       "    </tr>\n",
       "    <tr>\n",
       "      <th>mean</th>\n",
       "      <td>-2.549034e-17</td>\n",
       "      <td>8.000991e-17</td>\n",
       "      <td>1.853221e-17</td>\n",
       "      <td>1.463429e-17</td>\n",
       "      <td>0.477989</td>\n",
       "      <td>0.449886</td>\n",
       "      <td>0.072124</td>\n",
       "      <td>0.029864</td>\n",
       "      <td>0.171697</td>\n",
       "      <td>0.248595</td>\n",
       "      <td>...</td>\n",
       "      <td>0.110265</td>\n",
       "      <td>0.195363</td>\n",
       "      <td>0.365193</td>\n",
       "      <td>0.260972</td>\n",
       "      <td>0.000115</td>\n",
       "      <td>0.128176</td>\n",
       "      <td>0.155259</td>\n",
       "      <td>0.236507</td>\n",
       "      <td>0.261578</td>\n",
       "      <td>0.218365</td>\n",
       "    </tr>\n",
       "    <tr>\n",
       "      <th>std</th>\n",
       "      <td>1.000000e+00</td>\n",
       "      <td>1.000000e+00</td>\n",
       "      <td>1.000000e+00</td>\n",
       "      <td>1.000000e+00</td>\n",
       "      <td>0.499518</td>\n",
       "      <td>0.497485</td>\n",
       "      <td>0.258695</td>\n",
       "      <td>0.170213</td>\n",
       "      <td>0.377119</td>\n",
       "      <td>0.432200</td>\n",
       "      <td>...</td>\n",
       "      <td>0.313222</td>\n",
       "      <td>0.396482</td>\n",
       "      <td>0.481487</td>\n",
       "      <td>0.439167</td>\n",
       "      <td>0.010746</td>\n",
       "      <td>0.334287</td>\n",
       "      <td>0.362153</td>\n",
       "      <td>0.424939</td>\n",
       "      <td>0.439496</td>\n",
       "      <td>0.413138</td>\n",
       "    </tr>\n",
       "    <tr>\n",
       "      <th>min</th>\n",
       "      <td>-2.142229e+00</td>\n",
       "      <td>-1.161763e+00</td>\n",
       "      <td>-3.875299e-01</td>\n",
       "      <td>-3.915519e-01</td>\n",
       "      <td>0.000000</td>\n",
       "      <td>0.000000</td>\n",
       "      <td>0.000000</td>\n",
       "      <td>0.000000</td>\n",
       "      <td>0.000000</td>\n",
       "      <td>0.000000</td>\n",
       "      <td>...</td>\n",
       "      <td>0.000000</td>\n",
       "      <td>0.000000</td>\n",
       "      <td>0.000000</td>\n",
       "      <td>0.000000</td>\n",
       "      <td>0.000000</td>\n",
       "      <td>0.000000</td>\n",
       "      <td>0.000000</td>\n",
       "      <td>0.000000</td>\n",
       "      <td>0.000000</td>\n",
       "      <td>0.000000</td>\n",
       "    </tr>\n",
       "    <tr>\n",
       "      <th>25%</th>\n",
       "      <td>-8.190365e-01</td>\n",
       "      <td>-7.776668e-01</td>\n",
       "      <td>-3.875299e-01</td>\n",
       "      <td>-3.915519e-01</td>\n",
       "      <td>0.000000</td>\n",
       "      <td>0.000000</td>\n",
       "      <td>0.000000</td>\n",
       "      <td>0.000000</td>\n",
       "      <td>0.000000</td>\n",
       "      <td>0.000000</td>\n",
       "      <td>...</td>\n",
       "      <td>0.000000</td>\n",
       "      <td>0.000000</td>\n",
       "      <td>0.000000</td>\n",
       "      <td>0.000000</td>\n",
       "      <td>0.000000</td>\n",
       "      <td>0.000000</td>\n",
       "      <td>0.000000</td>\n",
       "      <td>0.000000</td>\n",
       "      <td>0.000000</td>\n",
       "      <td>0.000000</td>\n",
       "    </tr>\n",
       "    <tr>\n",
       "      <th>50%</th>\n",
       "      <td>4.103839e-02</td>\n",
       "      <td>-3.474395e-01</td>\n",
       "      <td>-3.875299e-01</td>\n",
       "      <td>-3.915519e-01</td>\n",
       "      <td>0.000000</td>\n",
       "      <td>0.000000</td>\n",
       "      <td>0.000000</td>\n",
       "      <td>0.000000</td>\n",
       "      <td>0.000000</td>\n",
       "      <td>0.000000</td>\n",
       "      <td>...</td>\n",
       "      <td>0.000000</td>\n",
       "      <td>0.000000</td>\n",
       "      <td>0.000000</td>\n",
       "      <td>0.000000</td>\n",
       "      <td>0.000000</td>\n",
       "      <td>0.000000</td>\n",
       "      <td>0.000000</td>\n",
       "      <td>0.000000</td>\n",
       "      <td>0.000000</td>\n",
       "      <td>0.000000</td>\n",
       "    </tr>\n",
       "    <tr>\n",
       "      <th>75%</th>\n",
       "      <td>7.687940e-01</td>\n",
       "      <td>5.551353e-01</td>\n",
       "      <td>-7.364771e-02</td>\n",
       "      <td>-5.519805e-02</td>\n",
       "      <td>1.000000</td>\n",
       "      <td>1.000000</td>\n",
       "      <td>0.000000</td>\n",
       "      <td>0.000000</td>\n",
       "      <td>0.000000</td>\n",
       "      <td>0.000000</td>\n",
       "      <td>...</td>\n",
       "      <td>0.000000</td>\n",
       "      <td>0.000000</td>\n",
       "      <td>1.000000</td>\n",
       "      <td>1.000000</td>\n",
       "      <td>0.000000</td>\n",
       "      <td>0.000000</td>\n",
       "      <td>0.000000</td>\n",
       "      <td>0.000000</td>\n",
       "      <td>1.000000</td>\n",
       "      <td>0.000000</td>\n",
       "    </tr>\n",
       "    <tr>\n",
       "      <th>max</th>\n",
       "      <td>3.018221e+00</td>\n",
       "      <td>3.804405e+00</td>\n",
       "      <td>4.125418e+01</td>\n",
       "      <td>4.059187e+01</td>\n",
       "      <td>1.000000</td>\n",
       "      <td>1.000000</td>\n",
       "      <td>1.000000</td>\n",
       "      <td>1.000000</td>\n",
       "      <td>1.000000</td>\n",
       "      <td>1.000000</td>\n",
       "      <td>...</td>\n",
       "      <td>1.000000</td>\n",
       "      <td>1.000000</td>\n",
       "      <td>1.000000</td>\n",
       "      <td>1.000000</td>\n",
       "      <td>1.000000</td>\n",
       "      <td>1.000000</td>\n",
       "      <td>1.000000</td>\n",
       "      <td>1.000000</td>\n",
       "      <td>1.000000</td>\n",
       "      <td>1.000000</td>\n",
       "    </tr>\n",
       "  </tbody>\n",
       "</table>\n",
       "<p>8 rows × 90 columns</p>\n",
       "</div>"
      ],
      "text/plain": [
       "                Age  Flight Distance  Departure Delay in Minutes  \\\n",
       "count  1.039040e+05     1.039040e+05                1.039040e+05   \n",
       "mean  -2.549034e-17     8.000991e-17                1.853221e-17   \n",
       "std    1.000000e+00     1.000000e+00                1.000000e+00   \n",
       "min   -2.142229e+00    -1.161763e+00               -3.875299e-01   \n",
       "25%   -8.190365e-01    -7.776668e-01               -3.875299e-01   \n",
       "50%    4.103839e-02    -3.474395e-01               -3.875299e-01   \n",
       "75%    7.687940e-01     5.551353e-01               -7.364771e-02   \n",
       "max    3.018221e+00     3.804405e+00                4.125418e+01   \n",
       "\n",
       "       Arrival Delay in Minutes  Class_Business      Class_Eco  \\\n",
       "count              1.039040e+05   103904.000000  103904.000000   \n",
       "mean               1.463429e-17        0.477989       0.449886   \n",
       "std                1.000000e+00        0.499518       0.497485   \n",
       "min               -3.915519e-01        0.000000       0.000000   \n",
       "25%               -3.915519e-01        0.000000       0.000000   \n",
       "50%               -3.915519e-01        0.000000       0.000000   \n",
       "75%               -5.519805e-02        1.000000       1.000000   \n",
       "max                4.059187e+01        1.000000       1.000000   \n",
       "\n",
       "       Class_Eco Plus  Inflight wifi service_0  Inflight wifi service_1  \\\n",
       "count   103904.000000            103904.000000            103904.000000   \n",
       "mean         0.072124                 0.029864                 0.171697   \n",
       "std          0.258695                 0.170213                 0.377119   \n",
       "min          0.000000                 0.000000                 0.000000   \n",
       "25%          0.000000                 0.000000                 0.000000   \n",
       "50%          0.000000                 0.000000                 0.000000   \n",
       "75%          0.000000                 0.000000                 0.000000   \n",
       "max          1.000000                 1.000000                 1.000000   \n",
       "\n",
       "       Inflight wifi service_2  ...  Inflight service_2  Inflight service_3  \\\n",
       "count            103904.000000  ...       103904.000000       103904.000000   \n",
       "mean                  0.248595  ...            0.110265            0.195363   \n",
       "std                   0.432200  ...            0.313222            0.396482   \n",
       "min                   0.000000  ...            0.000000            0.000000   \n",
       "25%                   0.000000  ...            0.000000            0.000000   \n",
       "50%                   0.000000  ...            0.000000            0.000000   \n",
       "75%                   0.000000  ...            0.000000            0.000000   \n",
       "max                   1.000000  ...            1.000000            1.000000   \n",
       "\n",
       "       Inflight service_4  Inflight service_5  Cleanliness_0  Cleanliness_1  \\\n",
       "count       103904.000000       103904.000000  103904.000000  103904.000000   \n",
       "mean             0.365193            0.260972       0.000115       0.128176   \n",
       "std              0.481487            0.439167       0.010746       0.334287   \n",
       "min              0.000000            0.000000       0.000000       0.000000   \n",
       "25%              0.000000            0.000000       0.000000       0.000000   \n",
       "50%              0.000000            0.000000       0.000000       0.000000   \n",
       "75%              1.000000            1.000000       0.000000       0.000000   \n",
       "max              1.000000            1.000000       1.000000       1.000000   \n",
       "\n",
       "       Cleanliness_2  Cleanliness_3  Cleanliness_4  Cleanliness_5  \n",
       "count  103904.000000  103904.000000  103904.000000  103904.000000  \n",
       "mean        0.155259       0.236507       0.261578       0.218365  \n",
       "std         0.362153       0.424939       0.439496       0.413138  \n",
       "min         0.000000       0.000000       0.000000       0.000000  \n",
       "25%         0.000000       0.000000       0.000000       0.000000  \n",
       "50%         0.000000       0.000000       0.000000       0.000000  \n",
       "75%         0.000000       0.000000       1.000000       0.000000  \n",
       "max         1.000000       1.000000       1.000000       1.000000  \n",
       "\n",
       "[8 rows x 90 columns]"
      ]
     },
     "execution_count": 24,
     "metadata": {},
     "output_type": "execute_result"
    }
   ],
   "source": [
    "data.describe()"
   ]
  },
  {
   "cell_type": "markdown",
   "id": "e01eb979",
   "metadata": {
    "papermill": {
     "duration": 0.043802,
     "end_time": "2022-08-20T20:05:42.263009",
     "exception": false,
     "start_time": "2022-08-20T20:05:42.219207",
     "status": "completed"
    },
    "tags": []
   },
   "source": [
    "<div style=\"border-width:1; border-radius: 15px; border-style: solid; border-color: rgb(10, 10, 10); background-color: #52ab98; text-align: center;font: 14pt 'Candara';font-weight:bold;\"><h1>Neural network</h1></div>"
   ]
  },
  {
   "cell_type": "markdown",
   "id": "91d5effd",
   "metadata": {
    "papermill": {
     "duration": 0.021722,
     "end_time": "2022-08-20T20:05:42.307304",
     "exception": false,
     "start_time": "2022-08-20T20:05:42.285582",
     "status": "completed"
    },
    "tags": []
   },
   "source": [
    "### Splitting the data on training and test sets"
   ]
  },
  {
   "cell_type": "markdown",
   "id": "f3a51528",
   "metadata": {
    "papermill": {
     "duration": 0.022017,
     "end_time": "2022-08-20T20:05:42.351582",
     "exception": false,
     "start_time": "2022-08-20T20:05:42.329565",
     "status": "completed"
    },
    "tags": []
   },
   "source": [
    "Get <b>X</b> and <b>y</b>:"
   ]
  },
  {
   "cell_type": "code",
   "execution_count": 25,
   "id": "c3ca11fb",
   "metadata": {
    "execution": {
     "iopub.execute_input": "2022-08-20T20:05:42.398629Z",
     "iopub.status.busy": "2022-08-20T20:05:42.398204Z",
     "iopub.status.idle": "2022-08-20T20:05:42.405302Z",
     "shell.execute_reply": "2022-08-20T20:05:42.404357Z"
    },
    "papermill": {
     "duration": 0.032895,
     "end_time": "2022-08-20T20:05:42.407343",
     "exception": false,
     "start_time": "2022-08-20T20:05:42.374448",
     "status": "completed"
    },
    "tags": []
   },
   "outputs": [
    {
     "data": {
      "text/plain": [
       "(103904, 93)"
      ]
     },
     "execution_count": 25,
     "metadata": {},
     "output_type": "execute_result"
    }
   ],
   "source": [
    "X = data\n",
    "y = target\n",
    "N, d = X.shape\n",
    "N, d"
   ]
  },
  {
   "cell_type": "code",
   "execution_count": 26,
   "id": "f7219cf7",
   "metadata": {
    "execution": {
     "iopub.execute_input": "2022-08-20T20:05:42.454765Z",
     "iopub.status.busy": "2022-08-20T20:05:42.454115Z",
     "iopub.status.idle": "2022-08-20T20:05:42.461480Z",
     "shell.execute_reply": "2022-08-20T20:05:42.460284Z"
    },
    "papermill": {
     "duration": 0.033848,
     "end_time": "2022-08-20T20:05:42.463782",
     "exception": false,
     "start_time": "2022-08-20T20:05:42.429934",
     "status": "completed"
    },
    "tags": []
   },
   "outputs": [
    {
     "data": {
      "text/plain": [
       "Index(['Age', 'Flight Distance', 'Departure Delay in Minutes',\n",
       "       'Arrival Delay in Minutes', 'Class_Business', 'Class_Eco',\n",
       "       'Class_Eco Plus', 'Inflight wifi service_0', 'Inflight wifi service_1',\n",
       "       'Inflight wifi service_2', 'Inflight wifi service_3',\n",
       "       'Inflight wifi service_4', 'Inflight wifi service_5',\n",
       "       'Departure/Arrival time convenient_0',\n",
       "       'Departure/Arrival time convenient_1',\n",
       "       'Departure/Arrival time convenient_2',\n",
       "       'Departure/Arrival time convenient_3',\n",
       "       'Departure/Arrival time convenient_4',\n",
       "       'Departure/Arrival time convenient_5', 'Ease of Online booking_0',\n",
       "       'Ease of Online booking_1', 'Ease of Online booking_2',\n",
       "       'Ease of Online booking_3', 'Ease of Online booking_4',\n",
       "       'Ease of Online booking_5', 'Gate location_0', 'Gate location_1',\n",
       "       'Gate location_2', 'Gate location_3', 'Gate location_4',\n",
       "       'Gate location_5', 'Food and drink_0', 'Food and drink_1',\n",
       "       'Food and drink_2', 'Food and drink_3', 'Food and drink_4',\n",
       "       'Food and drink_5', 'Online boarding_0', 'Online boarding_1',\n",
       "       'Online boarding_2', 'Online boarding_3', 'Online boarding_4',\n",
       "       'Online boarding_5', 'Seat comfort_0', 'Seat comfort_1',\n",
       "       'Seat comfort_2', 'Seat comfort_3', 'Seat comfort_4', 'Seat comfort_5',\n",
       "       'Inflight entertainment_0', 'Inflight entertainment_1',\n",
       "       'Inflight entertainment_2', 'Inflight entertainment_3',\n",
       "       'Inflight entertainment_4', 'Inflight entertainment_5',\n",
       "       'On-board service_0', 'On-board service_1', 'On-board service_2',\n",
       "       'On-board service_3', 'On-board service_4', 'On-board service_5',\n",
       "       'Leg room service_0', 'Leg room service_1', 'Leg room service_2',\n",
       "       'Leg room service_3', 'Leg room service_4', 'Leg room service_5',\n",
       "       'Baggage handling_1', 'Baggage handling_2', 'Baggage handling_3',\n",
       "       'Baggage handling_4', 'Baggage handling_5', 'Checkin service_0',\n",
       "       'Checkin service_1', 'Checkin service_2', 'Checkin service_3',\n",
       "       'Checkin service_4', 'Checkin service_5', 'Inflight service_0',\n",
       "       'Inflight service_1', 'Inflight service_2', 'Inflight service_3',\n",
       "       'Inflight service_4', 'Inflight service_5', 'Cleanliness_0',\n",
       "       'Cleanliness_1', 'Cleanliness_2', 'Cleanliness_3', 'Cleanliness_4',\n",
       "       'Cleanliness_5', 'Gender', 'Customer Type', 'Type of Travel'],\n",
       "      dtype='object')"
      ]
     },
     "execution_count": 26,
     "metadata": {},
     "output_type": "execute_result"
    }
   ],
   "source": [
    "X.columns"
   ]
  },
  {
   "cell_type": "code",
   "execution_count": 27,
   "id": "a0b7805b",
   "metadata": {
    "execution": {
     "iopub.execute_input": "2022-08-20T20:05:42.511503Z",
     "iopub.status.busy": "2022-08-20T20:05:42.510778Z",
     "iopub.status.idle": "2022-08-20T20:05:42.518112Z",
     "shell.execute_reply": "2022-08-20T20:05:42.517056Z"
    },
    "papermill": {
     "duration": 0.033799,
     "end_time": "2022-08-20T20:05:42.520418",
     "exception": false,
     "start_time": "2022-08-20T20:05:42.486619",
     "status": "completed"
    },
    "tags": []
   },
   "outputs": [
    {
     "data": {
      "text/plain": [
       "0         neutral or dissatisfied\n",
       "1         neutral or dissatisfied\n",
       "2                       satisfied\n",
       "3         neutral or dissatisfied\n",
       "4                       satisfied\n",
       "                   ...           \n",
       "103899    neutral or dissatisfied\n",
       "103900                  satisfied\n",
       "103901    neutral or dissatisfied\n",
       "103902    neutral or dissatisfied\n",
       "103903    neutral or dissatisfied\n",
       "Name: satisfaction, Length: 103904, dtype: object"
      ]
     },
     "execution_count": 27,
     "metadata": {},
     "output_type": "execute_result"
    }
   ],
   "source": [
    "y"
   ]
  },
  {
   "cell_type": "markdown",
   "id": "37fe193f",
   "metadata": {
    "papermill": {
     "duration": 0.022564,
     "end_time": "2022-08-20T20:05:42.565959",
     "exception": false,
     "start_time": "2022-08-20T20:05:42.543395",
     "status": "completed"
    },
    "tags": []
   },
   "source": [
    "Training a neural network takes a lot of time, so let's take not all the data, but only part of it:"
   ]
  },
  {
   "cell_type": "code",
   "execution_count": 28,
   "id": "56711c4c",
   "metadata": {
    "execution": {
     "iopub.execute_input": "2022-08-20T20:05:42.614650Z",
     "iopub.status.busy": "2022-08-20T20:05:42.613894Z",
     "iopub.status.idle": "2022-08-20T20:05:42.618432Z",
     "shell.execute_reply": "2022-08-20T20:05:42.617385Z"
    },
    "papermill": {
     "duration": 0.031937,
     "end_time": "2022-08-20T20:05:42.620865",
     "exception": false,
     "start_time": "2022-08-20T20:05:42.588928",
     "status": "completed"
    },
    "tags": []
   },
   "outputs": [],
   "source": [
    "N_train = 27000\n",
    "N_test = 3000"
   ]
  },
  {
   "cell_type": "code",
   "execution_count": 29,
   "id": "e62a9043",
   "metadata": {
    "execution": {
     "iopub.execute_input": "2022-08-20T20:05:42.669675Z",
     "iopub.status.busy": "2022-08-20T20:05:42.669174Z",
     "iopub.status.idle": "2022-08-20T20:05:42.793247Z",
     "shell.execute_reply": "2022-08-20T20:05:42.791996Z"
    },
    "papermill": {
     "duration": 0.152005,
     "end_time": "2022-08-20T20:05:42.795778",
     "exception": false,
     "start_time": "2022-08-20T20:05:42.643773",
     "status": "completed"
    },
    "tags": []
   },
   "outputs": [
    {
     "data": {
      "text/plain": [
       "((27000, 93), (3000, 93))"
      ]
     },
     "execution_count": 29,
     "metadata": {},
     "output_type": "execute_result"
    }
   ],
   "source": [
    "from sklearn.model_selection import train_test_split\n",
    "\n",
    "X_train, X_test, y_train, y_test = train_test_split(X, y, \n",
    "                                                    train_size = N_train, test_size = N_test, \n",
    "                                                    stratify = y, random_state = 42)\n",
    "\n",
    "X_train.shape, X_test.shape "
   ]
  },
  {
   "cell_type": "markdown",
   "id": "532967d2",
   "metadata": {
    "papermill": {
     "duration": 0.023049,
     "end_time": "2022-08-20T20:05:42.842108",
     "exception": false,
     "start_time": "2022-08-20T20:05:42.819059",
     "status": "completed"
    },
    "tags": []
   },
   "source": [
    "<div style=\"border-width:1; border-radius: 15px; border-style: solid; border-color: rgb(10, 10, 10); background-color: #52ab98; text-align: center;font: 14pt 'Candara';font-weight:bold;\"><h1>Selection of hyperparameters</h1></div>"
   ]
  },
  {
   "cell_type": "markdown",
   "id": "07220bf7",
   "metadata": {
    "papermill": {
     "duration": 0.022691,
     "end_time": "2022-08-20T20:05:42.887599",
     "exception": false,
     "start_time": "2022-08-20T20:05:42.864908",
     "status": "completed"
    },
    "tags": []
   },
   "source": [
    "The selection of hyperparameters will occur in <b>two ways</b>."
   ]
  },
  {
   "cell_type": "markdown",
   "id": "9591b0eb",
   "metadata": {
    "papermill": {
     "duration": 0.022615,
     "end_time": "2022-08-20T20:05:42.933115",
     "exception": false,
     "start_time": "2022-08-20T20:05:42.910500",
     "status": "completed"
    },
    "tags": []
   },
   "source": [
    "<b>First way:</b>\n",
    "<center><a><img src=\"https://raw.githubusercontent.com/Frixinglife/Homework_ML/60e1d5847d6f7c728025caa39f350074f58b299d/Kaggle.svg\" border=\"0\" class=\"center\">\n",
    "</a>"
   ]
  },
  {
   "cell_type": "markdown",
   "id": "509e78b8",
   "metadata": {
    "papermill": {
     "duration": 0.022528,
     "end_time": "2022-08-20T20:05:42.979097",
     "exception": false,
     "start_time": "2022-08-20T20:05:42.956569",
     "status": "completed"
    },
    "tags": []
   },
   "source": [
    "<b>Second way:</b>\n",
    "\n",
    "The second way is that the following hyperparameters will be iterated simultaneously (first the first two, and then all three at once):\n",
    "\n",
    "<ul>\n",
    "    <li>Alpha parameter</li>\n",
    "    <li>Number of neurons in the first hidden layer</li>\n",
    "    <li>Number of neurons in the second hidden layer</li>\n",
    "</ul>\n",
    "\n",
    "But we will enumerate them in some neighborhood of the parameters obtained earlier, otherwise the enumeration will be very long."
   ]
  },
  {
   "cell_type": "markdown",
   "id": "04d46fea",
   "metadata": {
    "papermill": {
     "duration": 0.023142,
     "end_time": "2022-08-20T20:05:43.025708",
     "exception": false,
     "start_time": "2022-08-20T20:05:43.002566",
     "status": "completed"
    },
    "tags": []
   },
   "source": [
    "<div style=\"border-width:1; border-radius: 15px; border-style: solid; border-color: rgb(10, 10, 10); background-color: #52ab98; text-align: center;font: 14pt 'Candara';font-weight:bold;\"><h1>The first way to select hyperparameters</h1></div>"
   ]
  },
  {
   "cell_type": "markdown",
   "id": "c7dacbee",
   "metadata": {
    "papermill": {
     "duration": 0.022502,
     "end_time": "2022-08-20T20:05:43.071535",
     "exception": false,
     "start_time": "2022-08-20T20:05:43.049033",
     "status": "completed"
    },
    "tags": []
   },
   "source": [
    "### Selection of the optimal regularization parameter alpha (for 1 hidden layer of 50 neurons)"
   ]
  },
  {
   "cell_type": "code",
   "execution_count": 30,
   "id": "4c942138",
   "metadata": {
    "execution": {
     "iopub.execute_input": "2022-08-20T20:05:43.119693Z",
     "iopub.status.busy": "2022-08-20T20:05:43.118983Z",
     "iopub.status.idle": "2022-08-20T20:14:44.388359Z",
     "shell.execute_reply": "2022-08-20T20:14:44.386851Z"
    },
    "papermill": {
     "duration": 541.31901,
     "end_time": "2022-08-20T20:14:44.413572",
     "exception": false,
     "start_time": "2022-08-20T20:05:43.094562",
     "status": "completed"
    },
    "tags": []
   },
   "outputs": [
    {
     "name": "stdout",
     "output_type": "stream",
     "text": [
      "CPU times: user 21min 45s, sys: 13min 10s, total: 34min 56s\n",
      "Wall time: 9min 1s\n"
     ]
    }
   ],
   "source": [
    "%%time\n",
    "alpha_arr = np.logspace(-3, 2, 21)\n",
    "test_err = []\n",
    "train_err = []\n",
    "train_acc = []\n",
    "test_acc = []\n",
    "\n",
    "for alpha in alpha_arr:\n",
    "    mlp_model = MLPClassifier(alpha = alpha, \n",
    "                              hidden_layer_sizes = 50,\n",
    "                              solver = 'lbfgs', \n",
    "                              max_iter = 1000, \n",
    "                              activation = 'logistic',\n",
    "                              random_state = 42)\n",
    "    \n",
    "    \n",
    "    mlp_model.fit(X_train, y_train)\n",
    "\n",
    "    y_train_pred = mlp_model.predict(X_train)\n",
    "    y_test_pred = mlp_model.predict(X_test)\n",
    "    \n",
    "    train_err.append(np.mean(y_train != y_train_pred))\n",
    "    test_err.append(np.mean(y_test != y_test_pred))\n",
    "    train_acc.append(accuracy_score(y_train, y_train_pred))\n",
    "    test_acc.append(accuracy_score(y_test, y_test_pred))"
   ]
  },
  {
   "cell_type": "code",
   "execution_count": 31,
   "id": "1efaf7d7",
   "metadata": {
    "execution": {
     "iopub.execute_input": "2022-08-20T20:14:44.461562Z",
     "iopub.status.busy": "2022-08-20T20:14:44.461109Z",
     "iopub.status.idle": "2022-08-20T20:14:45.342523Z",
     "shell.execute_reply": "2022-08-20T20:14:45.341579Z"
    },
    "papermill": {
     "duration": 0.908596,
     "end_time": "2022-08-20T20:14:45.345084",
     "exception": false,
     "start_time": "2022-08-20T20:14:44.436488",
     "status": "completed"
    },
    "tags": []
   },
   "outputs": [
    {
     "data": {
      "image/png": "[encoded data removed]",
      "text/plain": [
       "<Figure size 432x288 with 1 Axes>"
      ]
     },
     "metadata": {
      "needs_background": "light"
     },
     "output_type": "display_data"
    }
   ],
   "source": [
    "plt.semilogx(alpha_arr, train_err, 'b-o', label = 'train')\n",
    "plt.semilogx(alpha_arr, test_err, 'r-o', label = 'test')\n",
    "plt.xlim([np.min(alpha_arr), np.max(alpha_arr)])\n",
    "plt.title('Error vs. alpha')\n",
    "plt.xlabel('Alpha')\n",
    "plt.ylabel('Error')\n",
    "plt.legend()\n",
    "pass"
   ]
  },
  {
   "cell_type": "code",
   "execution_count": 32,
   "id": "e540c958",
   "metadata": {
    "execution": {
     "iopub.execute_input": "2022-08-20T20:14:45.402102Z",
     "iopub.status.busy": "2022-08-20T20:14:45.401223Z",
     "iopub.status.idle": "2022-08-20T20:14:45.921650Z",
     "shell.execute_reply": "2022-08-20T20:14:45.920130Z"
    },
    "papermill": {
     "duration": 0.550669,
     "end_time": "2022-08-20T20:14:45.924326",
     "exception": false,
     "start_time": "2022-08-20T20:14:45.373657",
     "status": "completed"
    },
    "tags": []
   },
   "outputs": [
    {
     "data": {
      "image/png": "[encoded data removed]",
      "text/plain": [
       "<Figure size 432x288 with 1 Axes>"
      ]
     },
     "metadata": {
      "needs_background": "light"
     },
     "output_type": "display_data"
    }
   ],
   "source": [
    "plt.semilogx(alpha_arr, train_acc, 'r-o', label = 'train')\n",
    "plt.semilogx(alpha_arr, test_acc, 'b-o', label = 'test')\n",
    "plt.xlim([np.min(alpha_arr), np.max(alpha_arr)])\n",
    "plt.title('Accuracy vs. alpha')\n",
    "plt.xlabel('Alpha')\n",
    "plt.ylabel('Accuracy')\n",
    "plt.legend()\n",
    "pass"
   ]
  },
  {
   "cell_type": "code",
   "execution_count": 33,
   "id": "80c3eca1",
   "metadata": {
    "execution": {
     "iopub.execute_input": "2022-08-20T20:14:45.974177Z",
     "iopub.status.busy": "2022-08-20T20:14:45.973759Z",
     "iopub.status.idle": "2022-08-20T20:14:45.980621Z",
     "shell.execute_reply": "2022-08-20T20:14:45.979436Z"
    },
    "papermill": {
     "duration": 0.034173,
     "end_time": "2022-08-20T20:14:45.983070",
     "exception": false,
     "start_time": "2022-08-20T20:14:45.948897",
     "status": "completed"
    },
    "tags": []
   },
   "outputs": [
    {
     "name": "stdout",
     "output_type": "stream",
     "text": [
      "Minimum error on the training set:  0.0\n",
      "Minimum error on the testing set:  0.03766666666666667\n"
     ]
    }
   ],
   "source": [
    "min_train_err = np.min(train_err)\n",
    "min_test_err = np.min(test_err)\n",
    "print('Minimum error on the training set: ', min_train_err)\n",
    "print('Minimum error on the testing set: ', min_test_err)"
   ]
  },
  {
   "cell_type": "code",
   "execution_count": 34,
   "id": "63729d9c",
   "metadata": {
    "execution": {
     "iopub.execute_input": "2022-08-20T20:14:46.033385Z",
     "iopub.status.busy": "2022-08-20T20:14:46.032565Z",
     "iopub.status.idle": "2022-08-20T20:14:46.039309Z",
     "shell.execute_reply": "2022-08-20T20:14:46.037987Z"
    },
    "papermill": {
     "duration": 0.034336,
     "end_time": "2022-08-20T20:14:46.041749",
     "exception": false,
     "start_time": "2022-08-20T20:14:46.007413",
     "status": "completed"
    },
    "tags": []
   },
   "outputs": [
    {
     "name": "stdout",
     "output_type": "stream",
     "text": [
      "Optimal alpha value:  5.623413251903491\n"
     ]
    }
   ],
   "source": [
    "alpha_local_opt = alpha_arr[test_err == min_test_err][0]\n",
    "print('Optimal alpha value: ', alpha_local_opt)"
   ]
  },
  {
   "cell_type": "markdown",
   "id": "1c824a5b",
   "metadata": {
    "papermill": {
     "duration": 0.02452,
     "end_time": "2022-08-20T20:14:46.089993",
     "exception": false,
     "start_time": "2022-08-20T20:14:46.065473",
     "status": "completed"
    },
    "tags": []
   },
   "source": [
    "### Classifier training at the optimal alpha value (for 1 hidden layer of 50 neurons)"
   ]
  },
  {
   "cell_type": "code",
   "execution_count": 35,
   "id": "407eda76",
   "metadata": {
    "execution": {
     "iopub.execute_input": "2022-08-20T20:14:46.139161Z",
     "iopub.status.busy": "2022-08-20T20:14:46.138767Z",
     "iopub.status.idle": "2022-08-20T20:15:12.489096Z",
     "shell.execute_reply": "2022-08-20T20:15:12.487448Z"
    },
    "papermill": {
     "duration": 26.3791,
     "end_time": "2022-08-20T20:15:12.492913",
     "exception": false,
     "start_time": "2022-08-20T20:14:46.113813",
     "status": "completed"
    },
    "tags": []
   },
   "outputs": [
    {
     "name": "stdout",
     "output_type": "stream",
     "text": [
      "CPU times: user 1min 3s, sys: 38.7 s, total: 1min 42s\n",
      "Wall time: 26.3 s\n"
     ]
    },
    {
     "data": {
      "text/plain": [
       "MLPClassifier(activation='logistic', alpha=5.623413251903491,\n",
       "              hidden_layer_sizes=50, max_iter=1000, random_state=42,\n",
       "              solver='lbfgs')"
      ]
     },
     "execution_count": 35,
     "metadata": {},
     "output_type": "execute_result"
    }
   ],
   "source": [
    "%%time\n",
    "mlp_model = MLPClassifier(alpha = alpha_local_opt, \n",
    "                          hidden_layer_sizes = 50,\n",
    "                          solver = 'lbfgs', \n",
    "                          max_iter = 1000, \n",
    "                          activation = 'logistic',\n",
    "                          random_state = 42)\n",
    "\n",
    "mlp_model.fit(X_train, y_train)"
   ]
  },
  {
   "cell_type": "code",
   "execution_count": 36,
   "id": "3d039006",
   "metadata": {
    "execution": {
     "iopub.execute_input": "2022-08-20T20:15:12.589964Z",
     "iopub.status.busy": "2022-08-20T20:15:12.589313Z",
     "iopub.status.idle": "2022-08-20T20:15:12.918265Z",
     "shell.execute_reply": "2022-08-20T20:15:12.916254Z"
    },
    "papermill": {
     "duration": 0.383667,
     "end_time": "2022-08-20T20:15:12.923828",
     "exception": false,
     "start_time": "2022-08-20T20:15:12.540161",
     "status": "completed"
    },
    "tags": []
   },
   "outputs": [
    {
     "name": "stdout",
     "output_type": "stream",
     "text": [
      "Error on the training set:  0.03562962962962963\n",
      "Error on the testing set:  0.03766666666666667\n"
     ]
    }
   ],
   "source": [
    "y_train_pred = mlp_model.predict(X_train)\n",
    "y_test_pred = mlp_model.predict(X_test)\n",
    "\n",
    "err_train = np.mean(y_train != y_train_pred)\n",
    "err_test = np.mean(y_test != y_test_pred)\n",
    "\n",
    "print('Error on the training set: ', err_train)\n",
    "print('Error on the testing set: ', err_test)"
   ]
  },
  {
   "cell_type": "markdown",
   "id": "32720b1d",
   "metadata": {
    "papermill": {
     "duration": 0.044834,
     "end_time": "2022-08-20T20:15:13.036260",
     "exception": false,
     "start_time": "2022-08-20T20:15:12.991426",
     "status": "completed"
    },
    "tags": []
   },
   "source": [
    "### Selection of the neurons number of 1 hidden layer for the optimal (for 1 hidden layer of 50 neurons) alpha value"
   ]
  },
  {
   "cell_type": "code",
   "execution_count": 37,
   "id": "f81fe1d4",
   "metadata": {
    "execution": {
     "iopub.execute_input": "2022-08-20T20:15:13.086714Z",
     "iopub.status.busy": "2022-08-20T20:15:13.086253Z",
     "iopub.status.idle": "2022-08-20T20:27:55.833015Z",
     "shell.execute_reply": "2022-08-20T20:27:55.832092Z"
    },
    "papermill": {
     "duration": 762.79975,
     "end_time": "2022-08-20T20:27:55.860438",
     "exception": false,
     "start_time": "2022-08-20T20:15:13.060688",
     "status": "completed"
    },
    "tags": []
   },
   "outputs": [
    {
     "name": "stdout",
     "output_type": "stream",
     "text": [
      "CPU times: user 31min 27s, sys: 17min 20s, total: 48min 47s\n",
      "Wall time: 12min 42s\n"
     ]
    }
   ],
   "source": [
    "%%time\n",
    "hidden_layer = np.arange(1, 51)\n",
    "test_err = []\n",
    "train_err = []\n",
    "train_acc = []\n",
    "test_acc = []\n",
    "\n",
    "for size in hidden_layer:\n",
    "    mlp_model = MLPClassifier(alpha = alpha_local_opt, \n",
    "                              hidden_layer_sizes = size,\n",
    "                              solver = 'lbfgs', \n",
    "                              max_iter = 1000, \n",
    "                              activation = 'logistic',\n",
    "                              random_state = 42)\n",
    "    \n",
    "    \n",
    "    mlp_model.fit(X_train, y_train)\n",
    "\n",
    "    y_train_pred = mlp_model.predict(X_train)\n",
    "    y_test_pred = mlp_model.predict(X_test)\n",
    "    \n",
    "    train_err.append(np.mean(y_train != y_train_pred))\n",
    "    test_err.append(np.mean(y_test != y_test_pred))\n",
    "    train_acc.append(accuracy_score(y_train, y_train_pred))\n",
    "    test_acc.append(accuracy_score(y_test, y_test_pred))"
   ]
  },
  {
   "cell_type": "code",
   "execution_count": 38,
   "id": "64eb4c97",
   "metadata": {
    "execution": {
     "iopub.execute_input": "2022-08-20T20:27:55.982406Z",
     "iopub.status.busy": "2022-08-20T20:27:55.981659Z",
     "iopub.status.idle": "2022-08-20T20:27:56.333401Z",
     "shell.execute_reply": "2022-08-20T20:27:56.332146Z"
    },
    "papermill": {
     "duration": 0.450088,
     "end_time": "2022-08-20T20:27:56.335813",
     "exception": false,
     "start_time": "2022-08-20T20:27:55.885725",
     "status": "completed"
    },
    "tags": []
   },
   "outputs": [
    {
     "data": {
      "image/png": "[encoded data removed]",
      "text/plain": [
       "<Figure size 432x288 with 1 Axes>"
      ]
     },
     "metadata": {
      "needs_background": "light"
     },
     "output_type": "display_data"
    }
   ],
   "source": [
    "plt.semilogx(hidden_layer, train_err, 'b-o', label = 'train')\n",
    "plt.semilogx(hidden_layer, test_err, 'r-o', label = 'test')\n",
    "plt.xlim([np.min(hidden_layer), np.max(hidden_layer)])\n",
    "plt.title('Error vs. number of hidden neurons')\n",
    "plt.xlabel('Number of hidden neurons')\n",
    "plt.ylabel('Error')\n",
    "plt.legend()\n",
    "pass"
   ]
  },
  {
   "cell_type": "code",
   "execution_count": 39,
   "id": "a0cadd4e",
   "metadata": {
    "execution": {
     "iopub.execute_input": "2022-08-20T20:27:56.387225Z",
     "iopub.status.busy": "2022-08-20T20:27:56.386604Z",
     "iopub.status.idle": "2022-08-20T20:27:56.740486Z",
     "shell.execute_reply": "2022-08-20T20:27:56.739541Z"
    },
    "papermill": {
     "duration": 0.382712,
     "end_time": "2022-08-20T20:27:56.743254",
     "exception": false,
     "start_time": "2022-08-20T20:27:56.360542",
     "status": "completed"
    },
    "tags": []
   },
   "outputs": [
    {
     "data": {
      "image/png": "[encoded data removed]",
      "text/plain": [
       "<Figure size 432x288 with 1 Axes>"
      ]
     },
     "metadata": {
      "needs_background": "light"
     },
     "output_type": "display_data"
    }
   ],
   "source": [
    "plt.semilogx(hidden_layer, train_acc, 'b-o', label = 'train')\n",
    "plt.semilogx(hidden_layer, test_acc, 'r-o', label = 'test')\n",
    "plt.xlim([np.min(hidden_layer), np.max(hidden_layer)])\n",
    "plt.title('Accuracy vs. number of hidden neurons')\n",
    "plt.xlabel('Number of hidden neurons')\n",
    "plt.ylabel('Accuracy')\n",
    "plt.legend()\n",
    "pass"
   ]
  },
  {
   "cell_type": "code",
   "execution_count": 40,
   "id": "b0cf1ff7",
   "metadata": {
    "execution": {
     "iopub.execute_input": "2022-08-20T20:27:56.797023Z",
     "iopub.status.busy": "2022-08-20T20:27:56.796268Z",
     "iopub.status.idle": "2022-08-20T20:27:56.803518Z",
     "shell.execute_reply": "2022-08-20T20:27:56.802354Z"
    },
    "papermill": {
     "duration": 0.036187,
     "end_time": "2022-08-20T20:27:56.805737",
     "exception": false,
     "start_time": "2022-08-20T20:27:56.769550",
     "status": "completed"
    },
    "tags": []
   },
   "outputs": [
    {
     "name": "stdout",
     "output_type": "stream",
     "text": [
      "Minimum error on the training set:  0.03537037037037037\n",
      "Minimum error on the testing set:  0.03766666666666667\n"
     ]
    }
   ],
   "source": [
    "min_train_err = np.min(train_err)\n",
    "min_test_err = np.min(test_err)\n",
    "print('Minimum error on the training set: ', min_train_err)\n",
    "print('Minimum error on the testing set: ', min_test_err)"
   ]
  },
  {
   "cell_type": "code",
   "execution_count": 41,
   "id": "7afd761e",
   "metadata": {
    "execution": {
     "iopub.execute_input": "2022-08-20T20:27:56.858083Z",
     "iopub.status.busy": "2022-08-20T20:27:56.857297Z",
     "iopub.status.idle": "2022-08-20T20:27:56.863699Z",
     "shell.execute_reply": "2022-08-20T20:27:56.862609Z"
    },
    "papermill": {
     "duration": 0.035199,
     "end_time": "2022-08-20T20:27:56.865925",
     "exception": false,
     "start_time": "2022-08-20T20:27:56.830726",
     "status": "completed"
    },
    "tags": []
   },
   "outputs": [
    {
     "name": "stdout",
     "output_type": "stream",
     "text": [
      "The optimal value of the neurons number in the hidden layer:  44\n"
     ]
    }
   ],
   "source": [
    "hidden_layer_local_opt_1 = hidden_layer[test_err == min_test_err][0]\n",
    "print('The optimal value of the neurons number in the hidden layer: ', hidden_layer_local_opt_1)"
   ]
  },
  {
   "cell_type": "markdown",
   "id": "424d5d46",
   "metadata": {
    "papermill": {
     "duration": 0.025522,
     "end_time": "2022-08-20T20:27:56.916633",
     "exception": false,
     "start_time": "2022-08-20T20:27:56.891111",
     "status": "completed"
    },
    "tags": []
   },
   "source": [
    "### Training a neural network with the optimal alpha value (for 1 hidden layer of 50 neurons) and the optimal neurons number in the first hidden layer (for a given alpha)"
   ]
  },
  {
   "cell_type": "code",
   "execution_count": 42,
   "id": "29f0baae",
   "metadata": {
    "execution": {
     "iopub.execute_input": "2022-08-20T20:27:56.971076Z",
     "iopub.status.busy": "2022-08-20T20:27:56.970289Z",
     "iopub.status.idle": "2022-08-20T20:28:15.218450Z",
     "shell.execute_reply": "2022-08-20T20:28:15.216837Z"
    },
    "papermill": {
     "duration": 18.281126,
     "end_time": "2022-08-20T20:28:15.223443",
     "exception": false,
     "start_time": "2022-08-20T20:27:56.942317",
     "status": "completed"
    },
    "tags": []
   },
   "outputs": [
    {
     "name": "stdout",
     "output_type": "stream",
     "text": [
      "CPU times: user 46.1 s, sys: 25.3 s, total: 1min 11s\n",
      "Wall time: 18.2 s\n"
     ]
    },
    {
     "data": {
      "text/plain": [
       "MLPClassifier(activation='logistic', alpha=5.623413251903491,\n",
       "              hidden_layer_sizes=44, max_iter=1000, random_state=42,\n",
       "              solver='lbfgs')"
      ]
     },
     "execution_count": 42,
     "metadata": {},
     "output_type": "execute_result"
    }
   ],
   "source": [
    "%%time\n",
    "mlp_model = MLPClassifier(alpha = alpha_local_opt, \n",
    "                          hidden_layer_sizes = hidden_layer_local_opt_1,\n",
    "                          solver = 'lbfgs', \n",
    "                          max_iter = 1000, \n",
    "                          activation = 'logistic',\n",
    "                          random_state = 42)\n",
    "\n",
    "mlp_model.fit(X_train, y_train)"
   ]
  },
  {
   "cell_type": "code",
   "execution_count": 43,
   "id": "a69eeac3",
   "metadata": {
    "execution": {
     "iopub.execute_input": "2022-08-20T20:28:15.340490Z",
     "iopub.status.busy": "2022-08-20T20:28:15.339531Z",
     "iopub.status.idle": "2022-08-20T20:28:15.700224Z",
     "shell.execute_reply": "2022-08-20T20:28:15.698589Z"
    },
    "papermill": {
     "duration": 0.415324,
     "end_time": "2022-08-20T20:28:15.704741",
     "exception": false,
     "start_time": "2022-08-20T20:28:15.289417",
     "status": "completed"
    },
    "tags": []
   },
   "outputs": [
    {
     "name": "stdout",
     "output_type": "stream",
     "text": [
      "Error on the training set:  0.036444444444444446\n",
      "Error on the testing set:  0.03766666666666667\n"
     ]
    }
   ],
   "source": [
    "y_train_pred = mlp_model.predict(X_train)\n",
    "y_test_pred = mlp_model.predict(X_test)\n",
    "\n",
    "err_train = np.mean(y_train != y_train_pred)\n",
    "err_test = np.mean(y_test != y_test_pred)\n",
    "\n",
    "print('Error on the training set: ', err_train)\n",
    "print('Error on the testing set: ', err_test)"
   ]
  },
  {
   "cell_type": "markdown",
   "id": "44d0395b",
   "metadata": {
    "papermill": {
     "duration": 0.040864,
     "end_time": "2022-08-20T20:28:15.814785",
     "exception": false,
     "start_time": "2022-08-20T20:28:15.773921",
     "status": "completed"
    },
    "tags": []
   },
   "source": [
    "### Selection of the neurons number in the second hidden layer with the optimal alpha value (for 1 hidden layer of 50 neurons) and the optimal neurons number in the first hidden layer (for a given alpha)"
   ]
  },
  {
   "cell_type": "code",
   "execution_count": 44,
   "id": "f249e370",
   "metadata": {
    "execution": {
     "iopub.execute_input": "2022-08-20T20:28:15.868969Z",
     "iopub.status.busy": "2022-08-20T20:28:15.868593Z",
     "iopub.status.idle": "2022-08-20T21:52:34.560653Z",
     "shell.execute_reply": "2022-08-20T21:52:34.559335Z"
    },
    "papermill": {
     "duration": 5058.749237,
     "end_time": "2022-08-20T21:52:34.590143",
     "exception": false,
     "start_time": "2022-08-20T20:28:15.840906",
     "status": "completed"
    },
    "tags": []
   },
   "outputs": [
    {
     "name": "stdout",
     "output_type": "stream",
     "text": [
      "CPU times: user 3h 31min 45s, sys: 1h 57min 40s, total: 5h 29min 25s\n",
      "Wall time: 1h 24min 18s\n"
     ]
    }
   ],
   "source": [
    "%%time\n",
    "hidden_layer = np.arange(1, 51)\n",
    "test_err = []\n",
    "train_err = []\n",
    "train_acc = []\n",
    "test_acc = []\n",
    "\n",
    "for size in hidden_layer:\n",
    "    mlp_model = MLPClassifier(alpha = alpha_local_opt, \n",
    "                              hidden_layer_sizes = (hidden_layer_local_opt_1, size),\n",
    "                              solver = 'lbfgs', \n",
    "                              max_iter = 1000, \n",
    "                              activation = 'logistic',\n",
    "                              random_state = 42)\n",
    "    \n",
    "    mlp_model.fit(X_train, y_train)\n",
    "\n",
    "    y_train_pred = mlp_model.predict(X_train)\n",
    "    y_test_pred = mlp_model.predict(X_test)\n",
    "    \n",
    "    train_err.append(np.mean(y_train != y_train_pred))\n",
    "    test_err.append(np.mean(y_test != y_test_pred))\n",
    "    train_acc.append(accuracy_score(y_train, y_train_pred))\n",
    "    test_acc.append(accuracy_score(y_test, y_test_pred))"
   ]
  },
  {
   "cell_type": "code",
   "execution_count": 45,
   "id": "2ac94205",
   "metadata": {
    "execution": {
     "iopub.execute_input": "2022-08-20T21:52:34.645612Z",
     "iopub.status.busy": "2022-08-20T21:52:34.645208Z",
     "iopub.status.idle": "2022-08-20T21:52:34.996471Z",
     "shell.execute_reply": "2022-08-20T21:52:34.995570Z"
    },
    "papermill": {
     "duration": 0.381622,
     "end_time": "2022-08-20T21:52:34.999036",
     "exception": false,
     "start_time": "2022-08-20T21:52:34.617414",
     "status": "completed"
    },
    "tags": []
   },
   "outputs": [
    {
     "data": {
      "image/png": "[encoded data removed]",
      "text/plain": [
       "<Figure size 432x288 with 1 Axes>"
      ]
     },
     "metadata": {
      "needs_background": "light"
     },
     "output_type": "display_data"
    }
   ],
   "source": [
    "plt.semilogx(hidden_layer, train_err, 'b-o', label = 'train')\n",
    "plt.semilogx(hidden_layer, test_err, 'r-o', label = 'test')\n",
    "plt.xlim([np.min(hidden_layer), np.max(hidden_layer)])\n",
    "plt.title('Error vs. number of hidden neurons (second layer)')\n",
    "plt.xlabel('Number of hidden neurons (second layer)')\n",
    "plt.ylabel('Error')\n",
    "plt.legend()\n",
    "pass"
   ]
  },
  {
   "cell_type": "code",
   "execution_count": 46,
   "id": "888f78de",
   "metadata": {
    "execution": {
     "iopub.execute_input": "2022-08-20T21:52:35.063161Z",
     "iopub.status.busy": "2022-08-20T21:52:35.061966Z",
     "iopub.status.idle": "2022-08-20T21:52:35.428351Z",
     "shell.execute_reply": "2022-08-20T21:52:35.426676Z"
    },
    "papermill": {
     "duration": 0.400902,
     "end_time": "2022-08-20T21:52:35.431513",
     "exception": false,
     "start_time": "2022-08-20T21:52:35.030611",
     "status": "completed"
    },
    "tags": []
   },
   "outputs": [
    {
     "data": {
      "image/png": "[encoded data removed]",
      "text/plain": [
       "<Figure size 432x288 with 1 Axes>"
      ]
     },
     "metadata": {
      "needs_background": "light"
     },
     "output_type": "display_data"
    }
   ],
   "source": [
    "plt.semilogx(hidden_layer, train_acc, 'b-o', label = 'train')\n",
    "plt.semilogx(hidden_layer, test_acc, 'r-o', label = 'test')\n",
    "plt.xlim([np.min(hidden_layer), np.max(hidden_layer)])\n",
    "plt.title('Accuracy vs. number of hidden neurons (second layer)')\n",
    "plt.xlabel('Number of hidden neurons (second layer)')\n",
    "plt.ylabel('Accuracy')\n",
    "plt.legend()\n",
    "pass"
   ]
  },
  {
   "cell_type": "code",
   "execution_count": 47,
   "id": "2971fab8",
   "metadata": {
    "execution": {
     "iopub.execute_input": "2022-08-20T21:52:35.491818Z",
     "iopub.status.busy": "2022-08-20T21:52:35.491399Z",
     "iopub.status.idle": "2022-08-20T21:52:35.498057Z",
     "shell.execute_reply": "2022-08-20T21:52:35.496847Z"
    },
    "papermill": {
     "duration": 0.038434,
     "end_time": "2022-08-20T21:52:35.500839",
     "exception": false,
     "start_time": "2022-08-20T21:52:35.462405",
     "status": "completed"
    },
    "tags": []
   },
   "outputs": [
    {
     "name": "stdout",
     "output_type": "stream",
     "text": [
      "Minimum error on the training set:  0.020037037037037037\n",
      "Minimum error on the testing set:  0.03766666666666667\n"
     ]
    }
   ],
   "source": [
    "min_train_err = np.min(train_err)\n",
    "min_test_err = np.min(test_err)\n",
    "print('Minimum error on the training set: ', min_train_err)\n",
    "print('Minimum error on the testing set: ', min_test_err)"
   ]
  },
  {
   "cell_type": "code",
   "execution_count": 48,
   "id": "266e3b5c",
   "metadata": {
    "execution": {
     "iopub.execute_input": "2022-08-20T21:52:35.562177Z",
     "iopub.status.busy": "2022-08-20T21:52:35.561730Z",
     "iopub.status.idle": "2022-08-20T21:52:35.567997Z",
     "shell.execute_reply": "2022-08-20T21:52:35.566859Z"
    },
    "papermill": {
     "duration": 0.03946,
     "end_time": "2022-08-20T21:52:35.570449",
     "exception": false,
     "start_time": "2022-08-20T21:52:35.530989",
     "status": "completed"
    },
    "tags": []
   },
   "outputs": [
    {
     "name": "stdout",
     "output_type": "stream",
     "text": [
      "The optimal value of the number of neurons in the second hidden layer:  33\n"
     ]
    }
   ],
   "source": [
    "hidden_layer_local_opt_2 = hidden_layer[test_err == min_test_err][0]\n",
    "print('The optimal value of the number of neurons in the second hidden layer: ', hidden_layer_local_opt_2)"
   ]
  },
  {
   "cell_type": "markdown",
   "id": "b561bc22",
   "metadata": {
    "papermill": {
     "duration": 0.029758,
     "end_time": "2022-08-20T21:52:35.628983",
     "exception": false,
     "start_time": "2022-08-20T21:52:35.599225",
     "status": "completed"
    },
    "tags": []
   },
   "source": [
    "### Training a neural network with the optimal alpha value (for 1 hidden layer of 50 neurons), optimal neurons numbers in the first and second hidden layers"
   ]
  },
  {
   "cell_type": "code",
   "execution_count": 49,
   "id": "bd045dfe",
   "metadata": {
    "execution": {
     "iopub.execute_input": "2022-08-20T21:52:35.689704Z",
     "iopub.status.busy": "2022-08-20T21:52:35.689031Z",
     "iopub.status.idle": "2022-08-20T21:54:23.764709Z",
     "shell.execute_reply": "2022-08-20T21:54:23.763578Z"
    },
    "papermill": {
     "duration": 108.18049,
     "end_time": "2022-08-20T21:54:23.838986",
     "exception": false,
     "start_time": "2022-08-20T21:52:35.658496",
     "status": "completed"
    },
    "tags": []
   },
   "outputs": [
    {
     "name": "stdout",
     "output_type": "stream",
     "text": [
      "CPU times: user 4min 29s, sys: 2min 32s, total: 7min 2s\n",
      "Wall time: 1min 48s\n"
     ]
    },
    {
     "data": {
      "text/plain": [
       "MLPClassifier(activation='logistic', alpha=5.623413251903491,\n",
       "              hidden_layer_sizes=(44, 33), max_iter=1000, random_state=42,\n",
       "              solver='lbfgs')"
      ]
     },
     "execution_count": 49,
     "metadata": {},
     "output_type": "execute_result"
    }
   ],
   "source": [
    "%%time\n",
    "mlp_model = MLPClassifier(alpha = alpha_local_opt, \n",
    "                          hidden_layer_sizes = (hidden_layer_local_opt_1, hidden_layer_local_opt_2),\n",
    "                          solver = 'lbfgs', \n",
    "                          max_iter = 1000, \n",
    "                          activation = 'logistic',\n",
    "                          random_state = 42)\n",
    "\n",
    "mlp_model.fit(X_train, y_train)"
   ]
  },
  {
   "cell_type": "code",
   "execution_count": 50,
   "id": "66f77e39",
   "metadata": {
    "execution": {
     "iopub.execute_input": "2022-08-20T21:54:23.918320Z",
     "iopub.status.busy": "2022-08-20T21:54:23.917195Z",
     "iopub.status.idle": "2022-08-20T21:54:24.306352Z",
     "shell.execute_reply": "2022-08-20T21:54:24.304867Z"
    },
    "papermill": {
     "duration": 0.422565,
     "end_time": "2022-08-20T21:54:24.310822",
     "exception": false,
     "start_time": "2022-08-20T21:54:23.888257",
     "status": "completed"
    },
    "tags": []
   },
   "outputs": [
    {
     "name": "stdout",
     "output_type": "stream",
     "text": [
      "Error on the training set:  0.02525925925925926\n",
      "Error on the testing set:  0.03766666666666667\n"
     ]
    }
   ],
   "source": [
    "y_train_pred = mlp_model.predict(X_train)\n",
    "y_test_pred = mlp_model.predict(X_test)\n",
    "\n",
    "err_train = np.mean(y_train != y_train_pred)\n",
    "err_test = np.mean(y_test != y_test_pred)\n",
    "\n",
    "print('Error on the training set: ', err_train)\n",
    "print('Error on the testing set: ', err_test)"
   ]
  },
  {
   "cell_type": "markdown",
   "id": "c6585070",
   "metadata": {
    "papermill": {
     "duration": 0.042216,
     "end_time": "2022-08-20T21:54:24.423004",
     "exception": false,
     "start_time": "2022-08-20T21:54:24.380788",
     "status": "completed"
    },
    "tags": []
   },
   "source": [
    "<div style=\"border-width:1; border-radius: 15px; border-style: solid; border-color: rgb(10, 10, 10); background-color: #52ab98; text-align: center;font: 14pt 'Candara';font-weight:bold;\"><h1>The second way to select hyperparameters</h1></div>"
   ]
  },
  {
   "cell_type": "markdown",
   "id": "902a2cc6",
   "metadata": {
    "papermill": {
     "duration": 0.027329,
     "end_time": "2022-08-20T21:54:24.478052",
     "exception": false,
     "start_time": "2022-08-20T21:54:24.450723",
     "status": "completed"
    },
    "tags": []
   },
   "source": [
    "### Simultaneous enumeration of alpha and the neurons number in the hidden layer (for a neural network with one hidden layer)"
   ]
  },
  {
   "cell_type": "code",
   "execution_count": 51,
   "id": "b60299cb",
   "metadata": {
    "execution": {
     "iopub.execute_input": "2022-08-20T21:54:24.534317Z",
     "iopub.status.busy": "2022-08-20T21:54:24.533893Z",
     "iopub.status.idle": "2022-08-20T22:28:36.831050Z",
     "shell.execute_reply": "2022-08-20T22:28:36.829895Z"
    },
    "papermill": {
     "duration": 2052.356344,
     "end_time": "2022-08-20T22:28:36.861534",
     "exception": false,
     "start_time": "2022-08-20T21:54:24.505190",
     "status": "completed"
    },
    "tags": []
   },
   "outputs": [
    {
     "name": "stdout",
     "output_type": "stream",
     "text": [
      "CPU times: user 1h 24min 21s, sys: 47min 58s, total: 2h 12min 19s\n",
      "Wall time: 34min 12s\n"
     ]
    }
   ],
   "source": [
    "%%time\n",
    "hidden_layer = np.arange(hidden_layer_local_opt_1 - 2, hidden_layer_local_opt_1 + 2)\n",
    "alpha_arr = np.logspace(-3, 2, 21)\n",
    "test_err = []\n",
    "train_err = []\n",
    "train_acc = []\n",
    "test_acc = []\n",
    "\n",
    "opt_params = []\n",
    "\n",
    "for size in hidden_layer:\n",
    "    for alpha in alpha_arr:\n",
    "        mlp_model = MLPClassifier(alpha = alpha, \n",
    "                                  hidden_layer_sizes = size,\n",
    "                                  solver = 'lbfgs', \n",
    "                                  max_iter = 1000, \n",
    "                                  activation = 'logistic',\n",
    "                                  random_state = 42)\n",
    "\n",
    "\n",
    "        mlp_model.fit(X_train, y_train)\n",
    "\n",
    "        y_train_pred = mlp_model.predict(X_train)\n",
    "        y_test_pred = mlp_model.predict(X_test)\n",
    "\n",
    "        train_err.append(np.mean(y_train != y_train_pred))\n",
    "        test_err.append(np.mean(y_test != y_test_pred))\n",
    "        train_acc.append(accuracy_score(y_train, y_train_pred))\n",
    "        test_acc.append(accuracy_score(y_test, y_test_pred))\n",
    "        \n",
    "        params = {'alpha': alpha, 'hidden_layer': size} \n",
    "        opt_params.append(params)"
   ]
  },
  {
   "cell_type": "code",
   "execution_count": 52,
   "id": "4cfb3ade",
   "metadata": {
    "execution": {
     "iopub.execute_input": "2022-08-20T22:28:36.918875Z",
     "iopub.status.busy": "2022-08-20T22:28:36.918462Z",
     "iopub.status.idle": "2022-08-20T22:28:36.924838Z",
     "shell.execute_reply": "2022-08-20T22:28:36.923587Z"
    },
    "papermill": {
     "duration": 0.038039,
     "end_time": "2022-08-20T22:28:36.927463",
     "exception": false,
     "start_time": "2022-08-20T22:28:36.889424",
     "status": "completed"
    },
    "tags": []
   },
   "outputs": [
    {
     "name": "stdout",
     "output_type": "stream",
     "text": [
      "Minimum error on the training set:  0.0\n",
      "Minimum error on the testing set:  0.03766666666666667\n"
     ]
    }
   ],
   "source": [
    "min_train_err = np.min(train_err)\n",
    "min_test_err = np.min(test_err)\n",
    "print('Minimum error on the training set: ', min_train_err)\n",
    "print('Minimum error on the testing set: ', min_test_err)"
   ]
  },
  {
   "cell_type": "code",
   "execution_count": 53,
   "id": "3e598c75",
   "metadata": {
    "execution": {
     "iopub.execute_input": "2022-08-20T22:28:36.985245Z",
     "iopub.status.busy": "2022-08-20T22:28:36.984477Z",
     "iopub.status.idle": "2022-08-20T22:28:36.992722Z",
     "shell.execute_reply": "2022-08-20T22:28:36.991514Z"
    },
    "papermill": {
     "duration": 0.039749,
     "end_time": "2022-08-20T22:28:36.994967",
     "exception": false,
     "start_time": "2022-08-20T22:28:36.955218",
     "status": "completed"
    },
    "tags": []
   },
   "outputs": [
    {
     "name": "stdout",
     "output_type": "stream",
     "text": [
      "The optimal value of the neurons number in the hidden layer:  44\n",
      "Optimal alpha value:  5.623413251903491\n"
     ]
    }
   ],
   "source": [
    "index_opt = 0\n",
    "for index in range(len(test_err)):\n",
    "    if test_err[index] == min_test_err:\n",
    "        index_opt = index\n",
    "        break\n",
    "        \n",
    "hidden_layer_opt = opt_params[index_opt]['hidden_layer']\n",
    "print('The optimal value of the neurons number in the hidden layer: ', hidden_layer_opt)\n",
    "\n",
    "alpha_opt = opt_params[index_opt]['alpha']\n",
    "print('Optimal alpha value: ', alpha_opt)"
   ]
  },
  {
   "cell_type": "markdown",
   "id": "46ef1394",
   "metadata": {
    "papermill": {
     "duration": 0.0279,
     "end_time": "2022-08-20T22:28:37.050345",
     "exception": false,
     "start_time": "2022-08-20T22:28:37.022445",
     "status": "completed"
    },
    "tags": []
   },
   "source": [
    "### Simultaneous enumeration of alpha, the neurons number in the first and second hidden layers"
   ]
  },
  {
   "cell_type": "code",
   "execution_count": 54,
   "id": "d3c09f60",
   "metadata": {
    "execution": {
     "iopub.execute_input": "2022-08-20T22:28:37.108093Z",
     "iopub.status.busy": "2022-08-20T22:28:37.107271Z",
     "iopub.status.idle": "2022-08-21T05:23:10.308199Z",
     "shell.execute_reply": "2022-08-21T05:23:10.306942Z"
    },
    "papermill": {
     "duration": 24873.260552,
     "end_time": "2022-08-21T05:23:10.338669",
     "exception": false,
     "start_time": "2022-08-20T22:28:37.078117",
     "status": "completed"
    },
    "tags": []
   },
   "outputs": [
    {
     "name": "stdout",
     "output_type": "stream",
     "text": [
      "CPU times: user 17h 25min 46s, sys: 9h 29min 38s, total: 1d 2h 55min 25s\n",
      "Wall time: 6h 54min 33s\n"
     ]
    }
   ],
   "source": [
    "%%time\n",
    "hidden_layer_first = np.arange(hidden_layer_local_opt_1 - 2, hidden_layer_local_opt_1 + 2)\n",
    "hidden_layer_second = np.arange(hidden_layer_local_opt_2 - 2, hidden_layer_local_opt_2 + 2)\n",
    "alpha_arr = np.logspace(-3, 2, 21)\n",
    "test_err = []\n",
    "train_err = []\n",
    "train_acc = []\n",
    "test_acc = []\n",
    "\n",
    "opt_params = []\n",
    "\n",
    "for size_first in hidden_layer_first:\n",
    "    for size_second in hidden_layer_second:\n",
    "        for alpha in alpha_arr:\n",
    "            mlp_model = MLPClassifier(alpha = alpha, \n",
    "                                      hidden_layer_sizes = (size_first, size_second), \n",
    "                                      solver = 'lbfgs', \n",
    "                                      max_iter = 1000, \n",
    "                                      activation = 'logistic',\n",
    "                                      random_state = 42)\n",
    "\n",
    "\n",
    "            mlp_model.fit(X_train, y_train)\n",
    "\n",
    "            y_train_pred = mlp_model.predict(X_train)\n",
    "            y_test_pred = mlp_model.predict(X_test)\n",
    "\n",
    "            train_err.append(np.mean(y_train != y_train_pred))\n",
    "            test_err.append(np.mean(y_test != y_test_pred))\n",
    "            train_acc.append(accuracy_score(y_train, y_train_pred))\n",
    "            test_acc.append(accuracy_score(y_test, y_test_pred))\n",
    "            \n",
    "            params = {'alpha': alpha, 'hidden_layer_first': size_first, 'hidden_layer_second': size_second} \n",
    "            opt_params.append(params)"
   ]
  },
  {
   "cell_type": "code",
   "execution_count": 55,
   "id": "785a58a5",
   "metadata": {
    "execution": {
     "iopub.execute_input": "2022-08-21T05:23:10.396586Z",
     "iopub.status.busy": "2022-08-21T05:23:10.396160Z",
     "iopub.status.idle": "2022-08-21T05:23:10.403052Z",
     "shell.execute_reply": "2022-08-21T05:23:10.401932Z"
    },
    "papermill": {
     "duration": 0.038681,
     "end_time": "2022-08-21T05:23:10.405517",
     "exception": false,
     "start_time": "2022-08-21T05:23:10.366836",
     "status": "completed"
    },
    "tags": []
   },
   "outputs": [
    {
     "name": "stdout",
     "output_type": "stream",
     "text": [
      "Minimum error on the training set:  0.0\n",
      "Minimum error on the testing set:  0.037\n"
     ]
    }
   ],
   "source": [
    "min_train_err = np.min(train_err)\n",
    "min_test_err = np.min(test_err)\n",
    "print('Minimum error on the training set: ', min_train_err)\n",
    "print('Minimum error on the testing set: ', min_test_err)"
   ]
  },
  {
   "cell_type": "code",
   "execution_count": 56,
   "id": "7b9ef796",
   "metadata": {
    "execution": {
     "iopub.execute_input": "2022-08-21T05:23:10.468669Z",
     "iopub.status.busy": "2022-08-21T05:23:10.467430Z",
     "iopub.status.idle": "2022-08-21T05:23:10.475832Z",
     "shell.execute_reply": "2022-08-21T05:23:10.474763Z"
    },
    "papermill": {
     "duration": 0.040634,
     "end_time": "2022-08-21T05:23:10.478152",
     "exception": false,
     "start_time": "2022-08-21T05:23:10.437518",
     "status": "completed"
    },
    "tags": []
   },
   "outputs": [
    {
     "name": "stdout",
     "output_type": "stream",
     "text": [
      "The optimal value of the neurons number in the first hidden layer:  43\n",
      "The optimal value of the neurons number in the second hidden layer:  33\n",
      "Optimal alpha value:  10.0\n"
     ]
    }
   ],
   "source": [
    "index_opt = 0\n",
    "for index in range(len(test_err)):\n",
    "    if test_err[index] == min_test_err:\n",
    "        index_opt = index\n",
    "        break\n",
    "        \n",
    "hidden_layer_opt_1 = opt_params[index_opt]['hidden_layer_first']\n",
    "print('The optimal value of the neurons number in the first hidden layer: ', hidden_layer_opt_1)\n",
    "\n",
    "hidden_layer_opt_2 = opt_params[index_opt]['hidden_layer_second']\n",
    "print('The optimal value of the neurons number in the second hidden layer: ', hidden_layer_opt_2)\n",
    "\n",
    "alpha_opt = opt_params[index_opt]['alpha']\n",
    "print('Optimal alpha value: ', alpha_opt)"
   ]
  },
  {
   "cell_type": "markdown",
   "id": "4c52c91e",
   "metadata": {
    "papermill": {
     "duration": 0.027927,
     "end_time": "2022-08-21T05:23:10.534466",
     "exception": false,
     "start_time": "2022-08-21T05:23:10.506539",
     "status": "completed"
    },
    "tags": []
   },
   "source": [
    "***\n",
    "<div style=\"border-width:1; border-radius: 15px; border-style: solid; border-color: rgb(10, 10, 10); background-color: #52ab98; text-align: center;font: 14pt 'Candara';font-weight:bold;\"><h1>Conclusions</h1></div>"
   ]
  },
  {
   "cell_type": "markdown",
   "id": "028bf19b",
   "metadata": {
    "papermill": {
     "duration": 0.028113,
     "end_time": "2022-08-21T05:23:10.591077",
     "exception": false,
     "start_time": "2022-08-21T05:23:10.562964",
     "status": "completed"
    },
    "tags": []
   },
   "source": [
    "> <ul>\n",
    "> <li>The error on the test sample is lesser than for other classifiers (in part 1).</li>\n",
    "> <li>The training didn't take place on the entire sample, but only on part of it. Despite this a very good result was achieved.</li>\n",
    "> <li>Since the quality of training of neural networks depends on the amount of input data, with an increase in the training sample, a result that is better than the previous one can be achieved.</li>\n",
    "> <li>Hyperparameters were selected in narrow ranges. By increasing the ranges, a smaller error can be achieved.</li>\n",
    "> </ul>"
   ]
  },
  {
   "cell_type": "markdown",
   "id": "43295c79",
   "metadata": {
    "papermill": {
     "duration": 0.027772,
     "end_time": "2022-08-21T05:23:10.647486",
     "exception": false,
     "start_time": "2022-08-21T05:23:10.619714",
     "status": "completed"
    },
    "tags": []
   },
   "source": [
    "***"
   ]
  }
 ],
 "metadata": {
  "kernelspec": {
   "display_name": "Python 3",
   "language": "python",
   "name": "python3"
  },
  "language_info": {
   "codemirror_mode": {
    "name": "ipython",
    "version": 3
   },
   "file_extension": ".py",
   "mimetype": "text/x-python",
   "name": "python",
   "nbconvert_exporter": "python",
   "pygments_lexer": "ipython3",
   "version": "3.7.12"
  },
  "papermill": {
   "default_parameters": {},
   "duration": 33464.067737,
   "end_time": "2022-08-21T05:23:11.660489",
   "environment_variables": {},
   "exception": null,
   "input_path": "__notebook__.ipynb",
   "output_path": "__notebook__.ipynb",
   "parameters": {},
   "start_time": "2022-08-20T20:05:27.592752",
   "version": "2.3.4"
  }
 },
 "nbformat": 4,
 "nbformat_minor": 5
}
